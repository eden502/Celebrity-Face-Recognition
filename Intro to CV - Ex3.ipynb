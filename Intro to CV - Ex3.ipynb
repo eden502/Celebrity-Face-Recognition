{
  "nbformat": 4,
  "nbformat_minor": 0,
  "metadata": {
    "colab": {
      "name": "EX_03.ipynb",
      "provenance": [],
      "collapsed_sections": []
    },
    "kernelspec": {
      "name": "python3",
      "display_name": "Python 3"
    },
    "language_info": {
      "name": "python"
    },
    "accelerator": "GPU"
  },
  "cells": [
    {
      "cell_type": "markdown",
      "source": [
        "#Excercise 3\n",
        "Neta Konsens - 316536275 </br>\n",
        "Eden Harel - 205518178"
      ],
      "metadata": {
        "id": "9eLT-yBzQjnu"
      }
    },
    {
      "cell_type": "markdown",
      "source": [
        "#Imports"
      ],
      "metadata": {
        "id": "Fjok546jOETR"
      }
    },
    {
      "cell_type": "code",
      "execution_count": 1,
      "metadata": {
        "id": "iHGw6gg6zm8J"
      },
      "outputs": [],
      "source": [
        "import numpy as np # linear algebra\n",
        "import pandas as pd # data processing, CSV file I/O (e.g. pd.read_csv)\n",
        "import cv2\n",
        "import glob\n",
        "from torch.utils.data import Dataset,DataLoader\n",
        "from torchvision import datasets, models, transforms\n",
        "import torch\n",
        "from matplotlib import pyplot as plt\n",
        "import os\n",
        "from cv2 import imread\n",
        "from sklearn.model_selection import train_test_split\n",
        "from sklearn.metrics import confusion_matrix\n",
        "import torch.optim as optim\n",
        "import torch.nn as nn\n",
        "import tqdm\n",
        "import seaborn as sn\n",
        "import albumentations as A\n",
        "from albumentations.augmentations.transforms import HorizontalFlip\n",
        "from itertools import chain"
      ]
    },
    {
      "cell_type": "markdown",
      "source": [
        "Import drive"
      ],
      "metadata": {
        "id": "Ccssi2ZROILj"
      }
    },
    {
      "cell_type": "code",
      "source": [
        "from google.colab import drive  \n",
        "drive.mount('/content/drive', force_remount=True)"
      ],
      "metadata": {
        "colab": {
          "base_uri": "https://localhost:8080/"
        },
        "id": "alTmh-Lj0ntH",
        "outputId": "7cad9cfe-ed8c-4459-96bb-a264548a2f5a"
      },
      "execution_count": 2,
      "outputs": [
        {
          "output_type": "stream",
          "name": "stdout",
          "text": [
            "Mounted at /content/drive\n"
          ]
        }
      ]
    },
    {
      "cell_type": "markdown",
      "source": [
        "Get images path from google drive"
      ],
      "metadata": {
        "id": "YH00lks1OK3O"
      }
    },
    {
      "cell_type": "code",
      "source": [
        "def get_images_path(folder_path ='/content/drive/MyDrive/Afeka_FaceData2022'):\n",
        "  data_paths = []\n",
        "  images_paths = []\n",
        "  [data_paths.append(x[0]) for x in os.walk(folder_path)]\n",
        "  labels = []\n",
        "  for path in data_paths:\n",
        "    labels.append(path.split(\"/\")[-1]) \n",
        "  labels.remove(labels[0])\n",
        "\n",
        "  for data_path in data_paths:\n",
        "    images_paths.extend([glob.glob(os.path.join(data_path, d, \"*.*\")) for d in os.listdir(data_path)])\n",
        "    \n",
        "  return list(chain.from_iterable(images_paths)), labels"
      ],
      "metadata": {
        "id": "I2yD-uHh1MnK"
      },
      "execution_count": 3,
      "outputs": []
    },
    {
      "cell_type": "code",
      "source": [
        "data_paths, labels = get_images_path()\n",
        "print(len(data_paths))\n",
        "print(labels)"
      ],
      "metadata": {
        "colab": {
          "base_uri": "https://localhost:8080/"
        },
        "id": "JQUICpca3R6f",
        "outputId": "1caf18f2-8f2a-4e49-ff52-2a32872f1db8"
      },
      "execution_count": 4,
      "outputs": [
        {
          "output_type": "stream",
          "name": "stdout",
          "text": [
            "260\n",
            "['Johnny Depp', 'Amber Heard', 'Cristiano Ronaldo', 'Luka Doncic', 'Channing Tatum', 'Lionel Messi', 'Ronaldinho', 'Shahar Hason', 'Morgan Freeman', 'Lando Norris', 'Freddie Mercury', 'Natty Zepko', 'Cellian Murphy']\n"
          ]
        }
      ]
    },
    {
      "cell_type": "markdown",
      "source": [
        "# Dataloader\n",
        "loads one image at a time, used with an iterator"
      ],
      "metadata": {
        "id": "Bc7ijo3cB32j"
      }
    },
    {
      "cell_type": "code",
      "source": [
        "class MyDataset(Dataset): \n",
        "    def __init__(self, paths, labels, transform=None, train=True):\n",
        "        self.paths = paths\n",
        "        self.labels = labels\n",
        "        self.transform = transform\n",
        "        self.train = train\n",
        "\n",
        "    def __len__(self):\n",
        "        return len(self.paths)\n",
        "    \n",
        "    def __getitem__(self, idx):\n",
        "        p = self.paths[idx]\n",
        "        label = p.split(\"/\")[-2]\n",
        "        label = self.labels.index(label)\n",
        "        image = cv2.imread(p)\n",
        "        image = cv2.cvtColor(image,cv2.COLOR_BGR2RGB)\n",
        "        #image = cv2.resize(image, (224, 224),interpolation = cv2.INTER_AREA)\n",
        "        \n",
        "        #image = cv2.normalize(image.astype('float'),None,0.0,1.1,cv2.NORM_MINMAX)\n",
        "\n",
        "        if self.transform:\n",
        "          image = self.transform(image=image)['image']\n",
        "\n",
        "        image = image.transpose(2,0,1)\n",
        "        image = torch.from_numpy(image).float()\n",
        "        \n",
        "\n",
        "        return image, label # label count starts from zero not 1 "
      ],
      "metadata": {
        "id": "YDoZUz2vz6B9"
      },
      "execution_count": 5,
      "outputs": []
    },
    {
      "cell_type": "markdown",
      "source": [
        "Albumentations implementation with the following facial detecion augmentations: </br>\n",
        "1. Horizontal Flip\n",
        "2. Random Contrast\n",
        "3. Resize to 244,244\n",
        "</br>\n",
        "We chose these augmentations because they help us enrich the dataset while not changing the image too drastically."
      ],
      "metadata": {
        "id": "8yie9Y_tQ5mo"
      }
    },
    {
      "cell_type": "code",
      "source": [
        "transform = A.Compose([ \n",
        "    A.HorizontalFlip(p = 0.4),\n",
        "    A.RandomContrast(p=0.3),\n",
        "    A.Resize(224,224)\n",
        "])"
      ],
      "metadata": {
        "id": "pAEaKBlPPd2N"
      },
      "execution_count": 6,
      "outputs": []
    },
    {
      "cell_type": "markdown",
      "source": [
        "Augmentations examples:"
      ],
      "metadata": {
        "id": "1o0uhYRIOUKm"
      }
    },
    {
      "cell_type": "markdown",
      "source": [
        "Data splitter - splitting the data into 80% train dataset and 20% validastion dataset."
      ],
      "metadata": {
        "id": "v944GOIjRXwo"
      }
    },
    {
      "cell_type": "code",
      "source": [
        "class load_data():\n",
        "  def __init__(self, data_set):\n",
        "    self.train, self.test = torch.utils.data.random_split(data_set, [int(len(data_set)*0.8), len(data_set)-int(len(data_set)*0.8)])\n",
        "    self.train_loader = DataLoader(self.train, batch_size=16, shuffle=True)\n",
        "    self.test_loader = DataLoader(self.test, batch_size=16, shuffle=False)\n",
        "\n",
        "  def __call__(self):\n",
        "    return self.train_loader, self.test_loader"
      ],
      "metadata": {
        "id": "c7XKPdPQ0Xu2"
      },
      "execution_count": 7,
      "outputs": []
    },
    {
      "cell_type": "code",
      "source": [
        "data_set = MyDataset(data_paths, labels, transform=transform, train=True)\n",
        "data = load_data(data_set)\n",
        "train_loader, test_loader = data()"
      ],
      "metadata": {
        "id": "H5_NWvITMpYP"
      },
      "execution_count": 8,
      "outputs": []
    },
    {
      "cell_type": "markdown",
      "source": [
        "# VGG16"
      ],
      "metadata": {
        "id": "QpHDybwUqTz7"
      }
    },
    {
      "cell_type": "markdown",
      "source": [
        "Our implementation for VGG16Net using pytorch"
      ],
      "metadata": {
        "id": "v61LsrDXJghA"
      }
    },
    {
      "cell_type": "code",
      "source": [
        "import torch.nn.functional as F"
      ],
      "metadata": {
        "id": "jHH7KvCuYn3m"
      },
      "execution_count": 9,
      "outputs": []
    },
    {
      "cell_type": "code",
      "source": [
        "class VGG16(nn.Module):\n",
        "    def __init__(self):\n",
        "        super(VGG16, self).__init__()\n",
        "        self.conv1_1 = nn.Conv2d(in_channels=3, out_channels=64, kernel_size=3, padding=1)\n",
        "        self.conv1_2 = nn.Conv2d(in_channels=64, out_channels=64, kernel_size=3, padding=1)\n",
        "\n",
        "        self.conv2_1 = nn.Conv2d(in_channels=64, out_channels=128, kernel_size=3, padding=1)\n",
        "        self.conv2_2 = nn.Conv2d(in_channels=128, out_channels=128, kernel_size=3, padding=1)\n",
        "\n",
        "        self.conv3_1 = nn.Conv2d(in_channels=128, out_channels=256, kernel_size=3, padding=1)\n",
        "        self.conv3_2 = nn.Conv2d(in_channels=256, out_channels=256, kernel_size=3, padding=1)\n",
        "        self.conv3_3 = nn.Conv2d(in_channels=256, out_channels=256, kernel_size=3, padding=1)\n",
        "\n",
        "        self.conv4_1 = nn.Conv2d(in_channels=256, out_channels=512, kernel_size=3, padding=1)\n",
        "        self.conv4_2 = nn.Conv2d(in_channels=512, out_channels=512, kernel_size=3, padding=1)\n",
        "        self.conv4_3 = nn.Conv2d(in_channels=512, out_channels=512, kernel_size=3, padding=1)\n",
        "\n",
        "        self.conv5_1 = nn.Conv2d(in_channels=512, out_channels=512, kernel_size=3, padding=1)\n",
        "        self.conv5_2 = nn.Conv2d(in_channels=512, out_channels=512, kernel_size=3, padding=1)\n",
        "        self.conv5_3 = nn.Conv2d(in_channels=512, out_channels=512, kernel_size=3, padding=1)\n",
        "\n",
        "        self.maxpool = nn.MaxPool2d(kernel_size=2, stride=2)\n",
        "\n",
        "        self.fc1 = nn.Linear(25088, 4096)\n",
        "        self.fc2 = nn.Linear(4096, 4096)\n",
        "        self.fc3 = nn.Linear(4096, 13)\n",
        "\n",
        "        self.activation = nn.Softmax(dim = 1)\n",
        "\n",
        "    def forward(self, x):\n",
        "        x = F.relu(self.conv1_1(x))\n",
        "        x = F.relu(self.conv1_2(x))\n",
        "        x = self.maxpool(x)\n",
        "        x = F.relu(self.conv2_1(x))\n",
        "        x = F.relu(self.conv2_2(x))\n",
        "        x = self.maxpool(x)\n",
        "        x = F.relu(self.conv3_1(x))\n",
        "        x = F.relu(self.conv3_2(x))\n",
        "        x = F.relu(self.conv3_3(x))\n",
        "        x = self.maxpool(x)\n",
        "        x = F.relu(self.conv4_1(x))\n",
        "        x = F.relu(self.conv4_2(x))\n",
        "        x = F.relu(self.conv4_3(x))\n",
        "        x = self.maxpool(x)\n",
        "        x = F.relu(self.conv5_1(x))\n",
        "        x = F.relu(self.conv5_2(x))\n",
        "        x = F.relu(self.conv5_3(x))\n",
        "        x = self.maxpool(x)\n",
        "        x = x.reshape(x.shape[0], -1)\n",
        "        x = F.relu(self.fc1(x))\n",
        "        #x = F.dropout(x, 0.5) #dropout was included to combat overfitting\n",
        "        x = F.relu(self.fc2(x))\n",
        "        #x = F.dropout(x, 0.5)\n",
        "        x = self.fc3(x)\n",
        "        #return self.activation(x)\n",
        "        return x"
      ],
      "metadata": {
        "id": "Wgn0ANGvRu8s"
      },
      "execution_count": 10,
      "outputs": []
    },
    {
      "cell_type": "code",
      "source": [
        "model = VGG16()"
      ],
      "metadata": {
        "id": "jMTyT5t7Q8XL"
      },
      "execution_count": 35,
      "outputs": []
    },
    {
      "cell_type": "code",
      "source": [
        "optimizer = torch.optim.Adam(model.parameters(), lr=0.0001) #The most common optimizer for this task."
      ],
      "metadata": {
        "id": "k2m6T7dhHNy1"
      },
      "execution_count": null,
      "outputs": []
    },
    {
      "cell_type": "code",
      "source": [
        "loss = nn.CrossEntropyLoss() # A loss function that fits a classification task."
      ],
      "metadata": {
        "id": "CDZe6zbZHLZd"
      },
      "execution_count": 10,
      "outputs": []
    },
    {
      "cell_type": "code",
      "source": [
        "from sklearn.metrics import accuracy_score\n"
      ],
      "metadata": {
        "id": "gGlsuDahK6Dy"
      },
      "execution_count": 13,
      "outputs": []
    },
    {
      "cell_type": "code",
      "source": [
        "from tqdm import tqdm"
      ],
      "metadata": {
        "id": "UUYGsMbjbvD8"
      },
      "execution_count": 11,
      "outputs": []
    },
    {
      "cell_type": "code",
      "source": [
        "def train_model(model,train_loader,test_loader,optimizer,lossFn,num_epoch = 30,DEVICE = 'cuda'):\n",
        "\n",
        "  model = model.cuda()\n",
        "  train_loss =[]\n",
        "  total_train_loss = []\n",
        "  total_test_acc = []\n",
        "  test_acc = []\n",
        "\n",
        "  for epoch in range(num_epoch):\n",
        "    print(f\"EPOCH #{epoch+1}\")\n",
        "    tq_train = tqdm(train_loader)\n",
        "\n",
        "    model.train()\n",
        "    for img, label in tq_train:\n",
        "      if epoch==18:\n",
        "        for param_group in optimizer.param_groups:\n",
        "          param_group['lr'] = 0.00001\n",
        "\n",
        "      img = img.cuda()\n",
        "      label = label.cuda()\n",
        "      optimizer.zero_grad()\n",
        "      output = model(img)\n",
        "      loss = lossFn(output,label)\n",
        "      loss.backward()\n",
        "      optimizer.step()\n",
        "\n",
        "      train_loss.append(loss)\n",
        "      tq_train.set_description(f\"train loss = {sum(train_loss)/len(train_loss)}\")\n",
        "    model.eval()\n",
        "    tq_test = tqdm(test_loader)\n",
        "\n",
        "\n",
        "    with torch.no_grad():\n",
        "      correct = 0\n",
        "      samples = 0\n",
        "      for img, label in tq_test:\n",
        "        img = img.cuda()\n",
        "        label = label.cuda()\n",
        "        output = model(img)\n",
        "        _,preds = torch.max(output,1)\n",
        "        for i in range(len(preds)):\n",
        "          if preds[i]==label[i]:\n",
        "            correct = correct+1\n",
        "        samples += preds.size(0)\n",
        "        test_acc.append(float(correct) / float(samples) * 100)\n",
        "        tq_test.set_description(f\"accuracy {float(correct) / float(samples) * 100:.2f} percentage || Correct {correct} out of {samples} samples\")\n",
        "\n",
        "    total_train_loss.append(sum(train_loss)/len(train_loss))\n",
        "    total_test_acc.append(sum(test_acc)/len(test_acc))\n",
        "    train_loss =[]\n",
        "    test_acc = []\n",
        "  return total_train_loss,total_test_acc\n",
        "  \n"
      ],
      "metadata": {
        "id": "dmd9el-hUsjE"
      },
      "execution_count": 12,
      "outputs": []
    },
    {
      "cell_type": "markdown",
      "source": [
        "Training our model"
      ],
      "metadata": {
        "id": "W8mA5OR6Jnso"
      }
    },
    {
      "cell_type": "code",
      "source": [
        "total_train_loss , total_test_acc = train_model(model,train_loader,test_loader,optimizer,loss)"
      ],
      "metadata": {
        "colab": {
          "base_uri": "https://localhost:8080/"
        },
        "id": "7hK_u7NDdbsD",
        "outputId": "fad62bd1-b391-400b-9a31-c4cb5ff2fe3b"
      },
      "execution_count": 37,
      "outputs": [
        {
          "output_type": "stream",
          "name": "stdout",
          "text": [
            "EPOCH #1\n"
          ]
        },
        {
          "output_type": "stream",
          "name": "stderr",
          "text": [
            "train loss = 2.5700411796569824: 100%|██████████| 13/13 [00:07<00:00,  1.76it/s]\n",
            "accuracy 3.85 percentage || Correct 2 out of 52 samples: 100%|██████████| 4/4 [00:01<00:00,  3.63it/s]\n"
          ]
        },
        {
          "output_type": "stream",
          "name": "stdout",
          "text": [
            "EPOCH #2\n"
          ]
        },
        {
          "output_type": "stream",
          "name": "stderr",
          "text": [
            "train loss = 2.563967227935791: 100%|██████████| 13/13 [00:07<00:00,  1.69it/s]\n",
            "accuracy 3.85 percentage || Correct 2 out of 52 samples: 100%|██████████| 4/4 [00:01<00:00,  3.88it/s]\n"
          ]
        },
        {
          "output_type": "stream",
          "name": "stdout",
          "text": [
            "EPOCH #3\n"
          ]
        },
        {
          "output_type": "stream",
          "name": "stderr",
          "text": [
            "train loss = 2.5700325965881348: 100%|██████████| 13/13 [00:07<00:00,  1.73it/s]\n",
            "accuracy 1.92 percentage || Correct 1 out of 52 samples: 100%|██████████| 4/4 [00:01<00:00,  3.59it/s]\n"
          ]
        },
        {
          "output_type": "stream",
          "name": "stdout",
          "text": [
            "EPOCH #4\n"
          ]
        },
        {
          "output_type": "stream",
          "name": "stderr",
          "text": [
            "train loss = 2.56360125541687: 100%|██████████| 13/13 [00:07<00:00,  1.77it/s]\n",
            "accuracy 1.92 percentage || Correct 1 out of 52 samples: 100%|██████████| 4/4 [00:01<00:00,  3.85it/s]\n"
          ]
        },
        {
          "output_type": "stream",
          "name": "stdout",
          "text": [
            "EPOCH #5\n"
          ]
        },
        {
          "output_type": "stream",
          "name": "stderr",
          "text": [
            "train loss = 2.563587188720703: 100%|██████████| 13/13 [00:07<00:00,  1.77it/s]\n",
            "accuracy 1.92 percentage || Correct 1 out of 52 samples: 100%|██████████| 4/4 [00:01<00:00,  3.50it/s]\n"
          ]
        },
        {
          "output_type": "stream",
          "name": "stdout",
          "text": [
            "EPOCH #6\n"
          ]
        },
        {
          "output_type": "stream",
          "name": "stderr",
          "text": [
            "train loss = 2.5634255409240723: 100%|██████████| 13/13 [00:07<00:00,  1.77it/s]\n",
            "accuracy 1.92 percentage || Correct 1 out of 52 samples: 100%|██████████| 4/4 [00:01<00:00,  3.42it/s]\n"
          ]
        },
        {
          "output_type": "stream",
          "name": "stdout",
          "text": [
            "EPOCH #7\n"
          ]
        },
        {
          "output_type": "stream",
          "name": "stderr",
          "text": [
            "train loss = 2.5625381469726562: 100%|██████████| 13/13 [00:07<00:00,  1.76it/s]\n",
            "accuracy 7.69 percentage || Correct 4 out of 52 samples: 100%|██████████| 4/4 [00:01<00:00,  3.47it/s]\n"
          ]
        },
        {
          "output_type": "stream",
          "name": "stdout",
          "text": [
            "EPOCH #8\n"
          ]
        },
        {
          "output_type": "stream",
          "name": "stderr",
          "text": [
            "train loss = 2.56158447265625: 100%|██████████| 13/13 [00:07<00:00,  1.74it/s]\n",
            "accuracy 3.85 percentage || Correct 2 out of 52 samples: 100%|██████████| 4/4 [00:01<00:00,  3.57it/s]\n"
          ]
        },
        {
          "output_type": "stream",
          "name": "stdout",
          "text": [
            "EPOCH #9\n"
          ]
        },
        {
          "output_type": "stream",
          "name": "stderr",
          "text": [
            "train loss = 2.556854248046875: 100%|██████████| 13/13 [00:07<00:00,  1.82it/s]\n",
            "accuracy 1.92 percentage || Correct 1 out of 52 samples: 100%|██████████| 4/4 [00:01<00:00,  3.65it/s]\n"
          ]
        },
        {
          "output_type": "stream",
          "name": "stdout",
          "text": [
            "EPOCH #10\n"
          ]
        },
        {
          "output_type": "stream",
          "name": "stderr",
          "text": [
            "train loss = 2.563004732131958: 100%|██████████| 13/13 [00:08<00:00,  1.62it/s]\n",
            "accuracy 1.92 percentage || Correct 1 out of 52 samples: 100%|██████████| 4/4 [00:01<00:00,  3.72it/s]\n"
          ]
        },
        {
          "output_type": "stream",
          "name": "stdout",
          "text": [
            "EPOCH #11\n"
          ]
        },
        {
          "output_type": "stream",
          "name": "stderr",
          "text": [
            "train loss = 2.5611484050750732: 100%|██████████| 13/13 [00:07<00:00,  1.79it/s]\n",
            "accuracy 1.92 percentage || Correct 1 out of 52 samples: 100%|██████████| 4/4 [00:01<00:00,  3.39it/s]\n"
          ]
        },
        {
          "output_type": "stream",
          "name": "stdout",
          "text": [
            "EPOCH #12\n"
          ]
        },
        {
          "output_type": "stream",
          "name": "stderr",
          "text": [
            "train loss = 2.5581612586975098: 100%|██████████| 13/13 [00:07<00:00,  1.76it/s]\n",
            "accuracy 5.77 percentage || Correct 3 out of 52 samples: 100%|██████████| 4/4 [00:01<00:00,  3.77it/s]\n"
          ]
        },
        {
          "output_type": "stream",
          "name": "stdout",
          "text": [
            "EPOCH #13\n"
          ]
        },
        {
          "output_type": "stream",
          "name": "stderr",
          "text": [
            "train loss = 2.519256591796875: 100%|██████████| 13/13 [00:07<00:00,  1.71it/s]\n",
            "accuracy 9.62 percentage || Correct 5 out of 52 samples: 100%|██████████| 4/4 [00:01<00:00,  3.65it/s]\n"
          ]
        },
        {
          "output_type": "stream",
          "name": "stdout",
          "text": [
            "EPOCH #14\n"
          ]
        },
        {
          "output_type": "stream",
          "name": "stderr",
          "text": [
            "train loss = 2.477285623550415: 100%|██████████| 13/13 [00:07<00:00,  1.72it/s]\n",
            "accuracy 13.46 percentage || Correct 7 out of 52 samples: 100%|██████████| 4/4 [00:01<00:00,  3.73it/s]\n"
          ]
        },
        {
          "output_type": "stream",
          "name": "stdout",
          "text": [
            "EPOCH #15\n"
          ]
        },
        {
          "output_type": "stream",
          "name": "stderr",
          "text": [
            "train loss = 2.3951261043548584: 100%|██████████| 13/13 [00:07<00:00,  1.76it/s]\n",
            "accuracy 13.46 percentage || Correct 7 out of 52 samples: 100%|██████████| 4/4 [00:01<00:00,  3.69it/s]\n"
          ]
        },
        {
          "output_type": "stream",
          "name": "stdout",
          "text": [
            "EPOCH #16\n"
          ]
        },
        {
          "output_type": "stream",
          "name": "stderr",
          "text": [
            "train loss = 2.2872750759124756: 100%|██████████| 13/13 [00:07<00:00,  1.80it/s]\n",
            "accuracy 21.15 percentage || Correct 11 out of 52 samples: 100%|██████████| 4/4 [00:01<00:00,  3.66it/s]\n"
          ]
        },
        {
          "output_type": "stream",
          "name": "stdout",
          "text": [
            "EPOCH #17\n"
          ]
        },
        {
          "output_type": "stream",
          "name": "stderr",
          "text": [
            "train loss = 2.121171474456787: 100%|██████████| 13/13 [00:07<00:00,  1.77it/s]\n",
            "accuracy 11.54 percentage || Correct 6 out of 52 samples: 100%|██████████| 4/4 [00:01<00:00,  3.85it/s]\n"
          ]
        },
        {
          "output_type": "stream",
          "name": "stdout",
          "text": [
            "EPOCH #18\n"
          ]
        },
        {
          "output_type": "stream",
          "name": "stderr",
          "text": [
            "train loss = 1.9840134382247925: 100%|██████████| 13/13 [00:07<00:00,  1.77it/s]\n",
            "accuracy 13.46 percentage || Correct 7 out of 52 samples: 100%|██████████| 4/4 [00:01<00:00,  3.78it/s]\n"
          ]
        },
        {
          "output_type": "stream",
          "name": "stdout",
          "text": [
            "EPOCH #19\n"
          ]
        },
        {
          "output_type": "stream",
          "name": "stderr",
          "text": [
            "train loss = 1.9917633533477783: 100%|██████████| 13/13 [00:07<00:00,  1.77it/s]\n",
            "accuracy 21.15 percentage || Correct 11 out of 52 samples: 100%|██████████| 4/4 [00:01<00:00,  3.53it/s]\n"
          ]
        },
        {
          "output_type": "stream",
          "name": "stdout",
          "text": [
            "EPOCH #20\n"
          ]
        },
        {
          "output_type": "stream",
          "name": "stderr",
          "text": [
            "train loss = 1.7863683700561523: 100%|██████████| 13/13 [00:07<00:00,  1.77it/s]\n",
            "accuracy 28.85 percentage || Correct 15 out of 52 samples: 100%|██████████| 4/4 [00:01<00:00,  3.85it/s]\n"
          ]
        },
        {
          "output_type": "stream",
          "name": "stdout",
          "text": [
            "EPOCH #21\n"
          ]
        },
        {
          "output_type": "stream",
          "name": "stderr",
          "text": [
            "train loss = 1.6296865940093994: 100%|██████████| 13/13 [00:07<00:00,  1.77it/s]\n",
            "accuracy 26.92 percentage || Correct 14 out of 52 samples: 100%|██████████| 4/4 [00:01<00:00,  3.66it/s]\n"
          ]
        },
        {
          "output_type": "stream",
          "name": "stdout",
          "text": [
            "EPOCH #22\n"
          ]
        },
        {
          "output_type": "stream",
          "name": "stderr",
          "text": [
            "train loss = 1.5788626670837402: 100%|██████████| 13/13 [00:07<00:00,  1.80it/s]\n",
            "accuracy 25.00 percentage || Correct 13 out of 52 samples: 100%|██████████| 4/4 [00:01<00:00,  3.61it/s]\n"
          ]
        },
        {
          "output_type": "stream",
          "name": "stdout",
          "text": [
            "EPOCH #23\n"
          ]
        },
        {
          "output_type": "stream",
          "name": "stderr",
          "text": [
            "train loss = 1.5212773084640503: 100%|██████████| 13/13 [00:07<00:00,  1.80it/s]\n",
            "accuracy 28.85 percentage || Correct 15 out of 52 samples: 100%|██████████| 4/4 [00:01<00:00,  3.68it/s]\n"
          ]
        },
        {
          "output_type": "stream",
          "name": "stdout",
          "text": [
            "EPOCH #24\n"
          ]
        },
        {
          "output_type": "stream",
          "name": "stderr",
          "text": [
            "train loss = 1.461428165435791: 100%|██████████| 13/13 [00:07<00:00,  1.75it/s]\n",
            "accuracy 26.92 percentage || Correct 14 out of 52 samples: 100%|██████████| 4/4 [00:01<00:00,  3.56it/s]\n"
          ]
        },
        {
          "output_type": "stream",
          "name": "stdout",
          "text": [
            "EPOCH #25\n"
          ]
        },
        {
          "output_type": "stream",
          "name": "stderr",
          "text": [
            "train loss = 1.4508980512619019: 100%|██████████| 13/13 [00:07<00:00,  1.75it/s]\n",
            "accuracy 28.85 percentage || Correct 15 out of 52 samples: 100%|██████████| 4/4 [00:01<00:00,  3.80it/s]\n"
          ]
        },
        {
          "output_type": "stream",
          "name": "stdout",
          "text": [
            "EPOCH #26\n"
          ]
        },
        {
          "output_type": "stream",
          "name": "stderr",
          "text": [
            "train loss = 1.3709526062011719: 100%|██████████| 13/13 [00:07<00:00,  1.77it/s]\n",
            "accuracy 28.85 percentage || Correct 15 out of 52 samples: 100%|██████████| 4/4 [00:01<00:00,  3.53it/s]\n"
          ]
        },
        {
          "output_type": "stream",
          "name": "stdout",
          "text": [
            "EPOCH #27\n"
          ]
        },
        {
          "output_type": "stream",
          "name": "stderr",
          "text": [
            "train loss = 1.3346227407455444: 100%|██████████| 13/13 [00:07<00:00,  1.74it/s]\n",
            "accuracy 30.77 percentage || Correct 16 out of 52 samples: 100%|██████████| 4/4 [00:01<00:00,  3.73it/s]\n"
          ]
        },
        {
          "output_type": "stream",
          "name": "stdout",
          "text": [
            "EPOCH #28\n"
          ]
        },
        {
          "output_type": "stream",
          "name": "stderr",
          "text": [
            "train loss = 1.30246901512146: 100%|██████████| 13/13 [00:07<00:00,  1.79it/s]\n",
            "accuracy 26.92 percentage || Correct 14 out of 52 samples: 100%|██████████| 4/4 [00:01<00:00,  3.75it/s]\n"
          ]
        },
        {
          "output_type": "stream",
          "name": "stdout",
          "text": [
            "EPOCH #29\n"
          ]
        },
        {
          "output_type": "stream",
          "name": "stderr",
          "text": [
            "train loss = 1.291230320930481: 100%|██████████| 13/13 [00:07<00:00,  1.75it/s]\n",
            "accuracy 30.77 percentage || Correct 16 out of 52 samples: 100%|██████████| 4/4 [00:01<00:00,  3.44it/s]\n"
          ]
        },
        {
          "output_type": "stream",
          "name": "stdout",
          "text": [
            "EPOCH #30\n"
          ]
        },
        {
          "output_type": "stream",
          "name": "stderr",
          "text": [
            "train loss = 1.2587614059448242: 100%|██████████| 13/13 [00:07<00:00,  1.78it/s]\n",
            "accuracy 34.62 percentage || Correct 18 out of 52 samples: 100%|██████████| 4/4 [00:01<00:00,  3.62it/s]\n"
          ]
        }
      ]
    },
    {
      "cell_type": "markdown",
      "source": [
        "Displaying model accuracy and loss"
      ],
      "metadata": {
        "id": "8uBNOX5qJwIs"
      }
    },
    {
      "cell_type": "code",
      "source": [
        "epochs = [i for i in range (30)]\n",
        "total_train_loss = torch.tensor(total_train_loss, device = 'cpu')\n",
        "total_train_loss = total_train_loss.numpy()\n",
        "print(len(total_train_loss))\n",
        "train_loss = pd.Series(total_train_loss, index = epochs)\n",
        "train_loss.plot(label='Train Loss')\n",
        "plt.xlabel(\"epoch\")\n",
        "plt.ylabel(\"train loss\")\n",
        "plt.legend()\n",
        "plt.show()\n",
        "test_accuracy = pd.Series(total_test_acc , index = epochs)\n",
        "test_accuracy.plot(label = 'Test Accuracy')\n",
        "plt.xlabel(\"epoch\")\n",
        "plt.ylabel(\"validation accuracy\")\n",
        "plt.legend()\n",
        "plt.show()"
      ],
      "metadata": {
        "id": "g0Ud5oWNI9hS",
        "colab": {
          "base_uri": "https://localhost:8080/",
          "height": 559
        },
        "outputId": "8d9d32eb-88fa-4792-ad99-b121c9a8d4d6"
      },
      "execution_count": 56,
      "outputs": [
        {
          "output_type": "stream",
          "name": "stdout",
          "text": [
            "30\n"
          ]
        },
        {
          "output_type": "display_data",
          "data": {
            "text/plain": [
              "<Figure size 432x288 with 1 Axes>"
            ],
            "image/png": "[encoded data removed]"
          },
          "metadata": {
            "needs_background": "light"
          }
        },
        {
          "output_type": "display_data",
          "data": {
            "text/plain": [
              "<Figure size 432x288 with 1 Axes>"
            ],
            "image/png": "[encoded data removed]"
          },
          "metadata": {
            "needs_background": "light"
          }
        }
      ]
    },
    {
      "cell_type": "markdown",
      "source": [
        "# True positive:"
      ],
      "metadata": {
        "id": "vv0jBTAKtfg8"
      }
    },
    {
      "cell_type": "code",
      "source": [
        "test_iter = iter(test_loader)\n"
      ],
      "metadata": {
        "id": "_xgUExWxtq92"
      },
      "execution_count": 105,
      "outputs": []
    },
    {
      "cell_type": "code",
      "source": [
        "im1,lb1 = next(test_iter)"
      ],
      "metadata": {
        "id": "a3El7gejuuLa"
      },
      "execution_count": 118,
      "outputs": []
    },
    {
      "cell_type": "code",
      "source": [
        "im2 = im1[0].permute(1,2,0)\n",
        "im2 = im2.numpy()/255"
      ],
      "metadata": {
        "id": "aNtYV55ltsWA"
      },
      "execution_count": 119,
      "outputs": []
    },
    {
      "cell_type": "code",
      "source": [
        "with torch.no_grad():\n",
        "  prediction = model(im1[:].float().to('cuda'))\n",
        "prediction = prediction.argmax(dim=1 , keepdim=True)\n",
        "pred = prediction.cpu().numpy()[0][0]"
      ],
      "metadata": {
        "id": "CC_36dHMtnrT"
      },
      "execution_count": 120,
      "outputs": []
    },
    {
      "cell_type": "code",
      "source": [
        "plt.title(labels[pred])\n",
        "plt.axis('off')\n",
        "plt.imshow(im2)"
      ],
      "metadata": {
        "colab": {
          "base_uri": "https://localhost:8080/",
          "height": 282
        },
        "id": "ngW99rnDnAfJ",
        "outputId": "4c955fe7-345b-4a50-9569-737250e07c3d"
      },
      "execution_count": 121,
      "outputs": [
        {
          "output_type": "execute_result",
          "data": {
            "text/plain": [
              "<matplotlib.image.AxesImage at 0x7f79580311d0>"
            ]
          },
          "metadata": {},
          "execution_count": 121
        },
        {
          "output_type": "display_data",
          "data": {
            "text/plain": [
              "<Figure size 432x288 with 1 Axes>"
            ],
            "image/png": "[encoded data removed]"
          },
          "metadata": {
            "needs_background": "light"
          }
        }
      ]
    },
    {
      "cell_type": "markdown",
      "source": [
        "# False Negative"
      ],
      "metadata": {
        "id": "MqN7lTaPu-Xz"
      }
    },
    {
      "cell_type": "code",
      "source": [
        "im3,lbl3 = next(test_iter)"
      ],
      "metadata": {
        "id": "Dgbmk5eSHTPc"
      },
      "execution_count": 110,
      "outputs": []
    },
    {
      "cell_type": "code",
      "source": [
        "with torch.no_grad():\n",
        "  prediction2 = model(im3[:].float().to('cuda'))\n",
        "prediction2 = prediction2.argmax(dim=1 , keepdim=True)\n",
        "pred2 = prediction2.cpu().numpy()[0][0]"
      ],
      "metadata": {
        "id": "y0hYNRQWtAU4"
      },
      "execution_count": 111,
      "outputs": []
    },
    {
      "cell_type": "code",
      "source": [
        "im3 = im3[0].permute(1,2,0)\n",
        "im3 = im3.numpy()/255"
      ],
      "metadata": {
        "id": "QaRStDvqucfv"
      },
      "execution_count": 112,
      "outputs": []
    },
    {
      "cell_type": "code",
      "source": [
        "plt.title(labels[pred2])\n",
        "plt.axis('off')\n",
        "plt.imshow(im3)"
      ],
      "metadata": {
        "colab": {
          "base_uri": "https://localhost:8080/",
          "height": 282
        },
        "id": "cEUzd_cDtCdy",
        "outputId": "86c5acbf-2a14-4b34-96ef-0985ead424d8"
      },
      "execution_count": 113,
      "outputs": [
        {
          "output_type": "execute_result",
          "data": {
            "text/plain": [
              "<matplotlib.image.AxesImage at 0x7f7957ad1d50>"
            ]
          },
          "metadata": {},
          "execution_count": 113
        },
        {
          "output_type": "display_data",
          "data": {
            "text/plain": [
              "<Figure size 432x288 with 1 Axes>"
            ],
            "image/png": "[encoded data removed]"
          },
          "metadata": {
            "needs_background": "light"
          }
        }
      ]
    },
    {
      "cell_type": "code",
      "source": [
        "new_test_set = data.test"
      ],
      "metadata": {
        "id": "AYYzCiQ4xYlQ"
      },
      "execution_count": 14,
      "outputs": []
    },
    {
      "cell_type": "code",
      "source": [
        "new_test_loader = DataLoader(new_test_set, batch_size=1, shuffle=False)"
      ],
      "metadata": {
        "id": "Llmf2virxcpV"
      },
      "execution_count": 15,
      "outputs": []
    },
    {
      "cell_type": "code",
      "source": [
        "from sklearn.metrics import confusion_matrix, classification_report"
      ],
      "metadata": {
        "id": "R8JQRBFjvUfo"
      },
      "execution_count": 16,
      "outputs": []
    },
    {
      "cell_type": "code",
      "source": [
        "len(new_test_loader)"
      ],
      "metadata": {
        "colab": {
          "base_uri": "https://localhost:8080/"
        },
        "id": "cObWfge0w1h6",
        "outputId": "89ab4c26-19c8-4733-cfdf-9ff0e2311972"
      },
      "execution_count": 130,
      "outputs": [
        {
          "output_type": "execute_result",
          "data": {
            "text/plain": [
              "52"
            ]
          },
          "metadata": {},
          "execution_count": 130
        }
      ]
    },
    {
      "cell_type": "markdown",
      "source": [
        "# Statistics"
      ],
      "metadata": {
        "id": "VtfAK1l4J6He"
      }
    },
    {
      "cell_type": "code",
      "source": [
        "classes= [i for i in range(13)]\n",
        "validation_loader_for_matrix = new_test_loader\n",
        "y_true = list()\n",
        "y_pred = list()\n",
        "model = model.to('cuda')\n",
        "model.eval()\n",
        "for img, lbl in tqdm(validation_loader_for_matrix,total=13):\n",
        "    y_true.append(lbl[0].long().numpy()) \n",
        "    with torch.no_grad():\n",
        "      prediction = model(img[:].float().to('cuda'))\n",
        "    prediction = prediction.argmax(dim=1 , keepdim=True)\n",
        "    y_pred.append(prediction.cpu().numpy()[0][0])\n",
        "cf_matrix = confusion_matrix(y_true, y_pred)\n",
        "print(classification_report(y_true, y_pred))\n",
        "plt.figure(figsize = (12,7))\n",
        "sn.heatmap(cf_matrix,fmt='.0f', annot=True, cmap='Blues')"
      ],
      "metadata": {
        "colab": {
          "base_uri": "https://localhost:8080/",
          "height": 831
        },
        "id": "YmqMQO3Tv6oa",
        "outputId": "d2b02796-cca6-46bb-8e40-433562df0112"
      },
      "execution_count": 131,
      "outputs": [
        {
          "output_type": "stream",
          "name": "stderr",
          "text": [
            "52it [00:02, 18.59it/s]\n"
          ]
        },
        {
          "output_type": "stream",
          "name": "stdout",
          "text": [
            "              precision    recall  f1-score   support\n",
            "\n",
            "           0       0.50      0.50      0.50         6\n",
            "           1       0.00      0.00      0.00         3\n",
            "           2       0.00      0.00      0.00         2\n",
            "           3       1.00      1.00      1.00         3\n",
            "           4       0.00      0.00      0.00         6\n",
            "           5       0.33      1.00      0.50         1\n",
            "           6       0.33      0.25      0.29         4\n",
            "           7       0.60      0.50      0.55         6\n",
            "           8       0.25      0.20      0.22         5\n",
            "           9       0.29      0.50      0.36         4\n",
            "          10       0.29      1.00      0.44         2\n",
            "          11       0.50      0.67      0.57         3\n",
            "          12       0.00      0.00      0.00         7\n",
            "\n",
            "    accuracy                           0.35        52\n",
            "   macro avg       0.31      0.43      0.34        52\n",
            "weighted avg       0.30      0.35      0.31        52\n",
            "\n"
          ]
        },
        {
          "output_type": "execute_result",
          "data": {
            "text/plain": [
              "<matplotlib.axes._subplots.AxesSubplot at 0x7f7958aae210>"
            ]
          },
          "metadata": {},
          "execution_count": 131
        },
        {
          "output_type": "display_data",
          "data": {
            "text/plain": [
              "<Figure size 864x504 with 2 Axes>"
            ],
            "image/png": "[encoded data removed]"
          },
          "metadata": {
            "needs_background": "light"
          }
        }
      ]
    },
    {
      "cell_type": "code",
      "source": [
        "#############################################################################################################################"
      ],
      "metadata": {
        "id": "XzUTl2NTCWId"
      },
      "execution_count": null,
      "outputs": []
    },
    {
      "cell_type": "markdown",
      "source": [
        "# Torchvision Models"
      ],
      "metadata": {
        "id": "nSPtVJ9G3q1y"
      }
    },
    {
      "cell_type": "code",
      "source": [
        "import torchvision.models as models"
      ],
      "metadata": {
        "id": "KGm5vlU33tCW"
      },
      "execution_count": 17,
      "outputs": []
    },
    {
      "cell_type": "markdown",
      "source": [
        "Method for retraining models and collecting scores and losses"
      ],
      "metadata": {
        "id": "t_Kk4X7kJ_HO"
      }
    },
    {
      "cell_type": "code",
      "source": [
        "def retrain_models(model,test_loader,train_loader,loss,model_name,num_epochs):\n",
        "\n",
        "  opt = torch.optim.Adam(model.parameters(), lr=0.0001)\n",
        "  train_loss, acc = train_model(model,train_loader,test_loader,opt,loss,num_epoch = num_epochs)\n",
        "\n",
        "  epochs = [i for i in range (num_epochs)]\n",
        "  total_train_loss = torch.tensor(train_loss, device = 'cpu')\n",
        "  total_train_loss = total_train_loss.numpy()\n",
        "  train_loss = pd.Series(total_train_loss, index = epochs)\n",
        "  test_accuracy = pd.Series(acc, index = epochs)\n",
        "\n",
        "\n",
        "  classes= [i for i in range(13)]\n",
        "  validation_loader_for_matrix = new_test_loader\n",
        "  y_true = list()\n",
        "  y_pred = list()\n",
        "  model.eval()\n",
        "  print(\"before\")\n",
        "  for img, lbl in tqdm(validation_loader_for_matrix,total=13):\n",
        "    y_true.append(lbl[0].long().numpy()) \n",
        "    with torch.no_grad():\n",
        "      prediction = model(img[:].float().to('cuda'))\n",
        "    y_pred.append(prediction[0].cpu().numpy())\n",
        "\n",
        "\n",
        "\n",
        "\n",
        "  \n",
        "  return train_loss,test_accuracy,y_true,y_pred\n",
        "  \n"
      ],
      "metadata": {
        "id": "opmOnU-8Bd_j"
      },
      "execution_count": 194,
      "outputs": []
    },
    {
      "cell_type": "code",
      "source": [
        "def show_plots(total_train_loss,total_test_accuracy,names_list):\n",
        "  for i in range(len(total_train_loss)):\n",
        "    total_train_loss[i].plot(label = names_list[i])\n",
        "  \n",
        "  plt.xlabel('epoch')\n",
        "  plt.ylabel('train loss')\n",
        "  plt.legend()\n",
        "  plt.show()\n",
        "  for i in range(len(total_test_accuracy)):\n",
        "    total_test_accuracy[i].plot(label=names_list[i])\n",
        "  plt.xlabel('epoch')\n",
        "  plt.ylabel('validation accuracy')\n",
        "  plt.legend()\n",
        "  plt.show()\n",
        "\n"
      ],
      "metadata": {
        "id": "qYWdDda7DFpq"
      },
      "execution_count": 20,
      "outputs": []
    },
    {
      "cell_type": "markdown",
      "source": [
        "**ResNet Model**</br>\n",
        "Re-training pytorch's ResNet model. In row #2 below we modify the final FC layer to fit the number of our classes (13)\n"
      ],
      "metadata": {
        "id": "8nt0AsMuHvEd"
      }
    },
    {
      "cell_type": "code",
      "source": [
        "all_models = models.resnet18(pretrained = True)\n",
        "all_models.fc = nn.Linear(512, 13)"
      ],
      "metadata": {
        "id": "hFNWtfpV4lkA"
      },
      "execution_count": 245,
      "outputs": []
    },
    {
      "cell_type": "code",
      "source": [
        "resnet_train_loss,resnet_test_acc,resnet_y_true,resnet_y_pred = retrain_models(all_models,test_loader,train_loader,loss,'ResNet',30)"
      ],
      "metadata": {
        "colab": {
          "base_uri": "https://localhost:8080/"
        },
        "id": "WUaqOaPBGZyE",
        "outputId": "1eb2f602-6dd5-496b-d65f-cc3c1072db22"
      },
      "execution_count": 246,
      "outputs": [
        {
          "output_type": "stream",
          "name": "stdout",
          "text": [
            "EPOCH #1\n"
          ]
        },
        {
          "output_type": "stream",
          "name": "stderr",
          "text": [
            "train loss = 2.135662317276001: 100%|██████████| 13/13 [00:04<00:00,  2.77it/s]\n",
            "accuracy 44.23 percentage || Correct 23 out of 52 samples: 100%|██████████| 4/4 [00:00<00:00,  5.16it/s]\n"
          ]
        },
        {
          "output_type": "stream",
          "name": "stdout",
          "text": [
            "EPOCH #2\n"
          ]
        },
        {
          "output_type": "stream",
          "name": "stderr",
          "text": [
            "train loss = 0.7658329010009766: 100%|██████████| 13/13 [00:04<00:00,  2.78it/s]\n",
            "accuracy 71.15 percentage || Correct 37 out of 52 samples: 100%|██████████| 4/4 [00:00<00:00,  4.94it/s]\n"
          ]
        },
        {
          "output_type": "stream",
          "name": "stdout",
          "text": [
            "EPOCH #3\n"
          ]
        },
        {
          "output_type": "stream",
          "name": "stderr",
          "text": [
            "train loss = 0.3350180983543396: 100%|██████████| 13/13 [00:04<00:00,  2.78it/s]\n",
            "accuracy 71.15 percentage || Correct 37 out of 52 samples: 100%|██████████| 4/4 [00:00<00:00,  4.53it/s]\n"
          ]
        },
        {
          "output_type": "stream",
          "name": "stdout",
          "text": [
            "EPOCH #4\n"
          ]
        },
        {
          "output_type": "stream",
          "name": "stderr",
          "text": [
            "train loss = 0.16499026119709015: 100%|██████████| 13/13 [00:04<00:00,  2.81it/s]\n",
            "accuracy 78.85 percentage || Correct 41 out of 52 samples: 100%|██████████| 4/4 [00:00<00:00,  5.33it/s]\n"
          ]
        },
        {
          "output_type": "stream",
          "name": "stdout",
          "text": [
            "EPOCH #5\n"
          ]
        },
        {
          "output_type": "stream",
          "name": "stderr",
          "text": [
            "train loss = 0.10021556168794632: 100%|██████████| 13/13 [00:04<00:00,  2.80it/s]\n",
            "accuracy 78.85 percentage || Correct 41 out of 52 samples: 100%|██████████| 4/4 [00:00<00:00,  5.13it/s]\n"
          ]
        },
        {
          "output_type": "stream",
          "name": "stdout",
          "text": [
            "EPOCH #6\n"
          ]
        },
        {
          "output_type": "stream",
          "name": "stderr",
          "text": [
            "train loss = 0.06296144425868988: 100%|██████████| 13/13 [00:04<00:00,  2.83it/s]\n",
            "accuracy 80.77 percentage || Correct 42 out of 52 samples: 100%|██████████| 4/4 [00:00<00:00,  4.68it/s]\n"
          ]
        },
        {
          "output_type": "stream",
          "name": "stdout",
          "text": [
            "EPOCH #7\n"
          ]
        },
        {
          "output_type": "stream",
          "name": "stderr",
          "text": [
            "train loss = 0.05291952192783356: 100%|██████████| 13/13 [00:04<00:00,  2.66it/s]\n",
            "accuracy 78.85 percentage || Correct 41 out of 52 samples: 100%|██████████| 4/4 [00:01<00:00,  3.39it/s]\n"
          ]
        },
        {
          "output_type": "stream",
          "name": "stdout",
          "text": [
            "EPOCH #8\n"
          ]
        },
        {
          "output_type": "stream",
          "name": "stderr",
          "text": [
            "train loss = 0.04043328016996384: 100%|██████████| 13/13 [00:05<00:00,  2.59it/s]\n",
            "accuracy 78.85 percentage || Correct 41 out of 52 samples: 100%|██████████| 4/4 [00:00<00:00,  5.46it/s]\n"
          ]
        },
        {
          "output_type": "stream",
          "name": "stdout",
          "text": [
            "EPOCH #9\n"
          ]
        },
        {
          "output_type": "stream",
          "name": "stderr",
          "text": [
            "train loss = 0.033310070633888245: 100%|██████████| 13/13 [00:04<00:00,  2.71it/s]\n",
            "accuracy 80.77 percentage || Correct 42 out of 52 samples: 100%|██████████| 4/4 [00:00<00:00,  4.91it/s]\n"
          ]
        },
        {
          "output_type": "stream",
          "name": "stdout",
          "text": [
            "EPOCH #10\n"
          ]
        },
        {
          "output_type": "stream",
          "name": "stderr",
          "text": [
            "train loss = 0.02080233208835125: 100%|██████████| 13/13 [00:04<00:00,  2.80it/s]\n",
            "accuracy 78.85 percentage || Correct 41 out of 52 samples: 100%|██████████| 4/4 [00:00<00:00,  4.86it/s]\n"
          ]
        },
        {
          "output_type": "stream",
          "name": "stdout",
          "text": [
            "EPOCH #11\n"
          ]
        },
        {
          "output_type": "stream",
          "name": "stderr",
          "text": [
            "train loss = 0.021399615332484245: 100%|██████████| 13/13 [00:04<00:00,  2.80it/s]\n",
            "accuracy 80.77 percentage || Correct 42 out of 52 samples: 100%|██████████| 4/4 [00:00<00:00,  5.64it/s]\n"
          ]
        },
        {
          "output_type": "stream",
          "name": "stdout",
          "text": [
            "EPOCH #12\n"
          ]
        },
        {
          "output_type": "stream",
          "name": "stderr",
          "text": [
            "train loss = 0.019873669371008873: 100%|██████████| 13/13 [00:04<00:00,  2.87it/s]\n",
            "accuracy 80.77 percentage || Correct 42 out of 52 samples: 100%|██████████| 4/4 [00:00<00:00,  5.10it/s]\n"
          ]
        },
        {
          "output_type": "stream",
          "name": "stdout",
          "text": [
            "EPOCH #13\n"
          ]
        },
        {
          "output_type": "stream",
          "name": "stderr",
          "text": [
            "train loss = 0.01764962449669838: 100%|██████████| 13/13 [00:04<00:00,  2.82it/s]\n",
            "accuracy 78.85 percentage || Correct 41 out of 52 samples: 100%|██████████| 4/4 [00:00<00:00,  5.20it/s]\n"
          ]
        },
        {
          "output_type": "stream",
          "name": "stdout",
          "text": [
            "EPOCH #14\n"
          ]
        },
        {
          "output_type": "stream",
          "name": "stderr",
          "text": [
            "train loss = 0.016531379893422127: 100%|██████████| 13/13 [00:04<00:00,  2.87it/s]\n",
            "accuracy 78.85 percentage || Correct 41 out of 52 samples: 100%|██████████| 4/4 [00:00<00:00,  4.97it/s]\n"
          ]
        },
        {
          "output_type": "stream",
          "name": "stdout",
          "text": [
            "EPOCH #15\n"
          ]
        },
        {
          "output_type": "stream",
          "name": "stderr",
          "text": [
            "train loss = 0.013739758171141148: 100%|██████████| 13/13 [00:04<00:00,  2.88it/s]\n",
            "accuracy 78.85 percentage || Correct 41 out of 52 samples: 100%|██████████| 4/4 [00:00<00:00,  5.09it/s]\n"
          ]
        },
        {
          "output_type": "stream",
          "name": "stdout",
          "text": [
            "EPOCH #16\n"
          ]
        },
        {
          "output_type": "stream",
          "name": "stderr",
          "text": [
            "train loss = 0.011361886747181416: 100%|██████████| 13/13 [00:04<00:00,  2.89it/s]\n",
            "accuracy 78.85 percentage || Correct 41 out of 52 samples: 100%|██████████| 4/4 [00:00<00:00,  4.76it/s]\n"
          ]
        },
        {
          "output_type": "stream",
          "name": "stdout",
          "text": [
            "EPOCH #17\n"
          ]
        },
        {
          "output_type": "stream",
          "name": "stderr",
          "text": [
            "train loss = 0.010207544080913067: 100%|██████████| 13/13 [00:04<00:00,  2.86it/s]\n",
            "accuracy 78.85 percentage || Correct 41 out of 52 samples: 100%|██████████| 4/4 [00:00<00:00,  5.32it/s]\n"
          ]
        },
        {
          "output_type": "stream",
          "name": "stdout",
          "text": [
            "EPOCH #18\n"
          ]
        },
        {
          "output_type": "stream",
          "name": "stderr",
          "text": [
            "train loss = 0.011849201284348965: 100%|██████████| 13/13 [00:04<00:00,  2.76it/s]\n",
            "accuracy 82.69 percentage || Correct 43 out of 52 samples: 100%|██████████| 4/4 [00:00<00:00,  4.75it/s]\n"
          ]
        },
        {
          "output_type": "stream",
          "name": "stdout",
          "text": [
            "EPOCH #19\n"
          ]
        },
        {
          "output_type": "stream",
          "name": "stderr",
          "text": [
            "train loss = 0.00904650054872036: 100%|██████████| 13/13 [00:04<00:00,  2.74it/s]\n",
            "accuracy 80.77 percentage || Correct 42 out of 52 samples: 100%|██████████| 4/4 [00:00<00:00,  5.28it/s]\n"
          ]
        },
        {
          "output_type": "stream",
          "name": "stdout",
          "text": [
            "EPOCH #20\n"
          ]
        },
        {
          "output_type": "stream",
          "name": "stderr",
          "text": [
            "train loss = 0.010048170574009418: 100%|██████████| 13/13 [00:04<00:00,  2.72it/s]\n",
            "accuracy 80.77 percentage || Correct 42 out of 52 samples: 100%|██████████| 4/4 [00:00<00:00,  5.29it/s]\n"
          ]
        },
        {
          "output_type": "stream",
          "name": "stdout",
          "text": [
            "EPOCH #21\n"
          ]
        },
        {
          "output_type": "stream",
          "name": "stderr",
          "text": [
            "train loss = 0.009814701043069363: 100%|██████████| 13/13 [00:04<00:00,  2.83it/s]\n",
            "accuracy 82.69 percentage || Correct 43 out of 52 samples: 100%|██████████| 4/4 [00:00<00:00,  5.24it/s]\n"
          ]
        },
        {
          "output_type": "stream",
          "name": "stdout",
          "text": [
            "EPOCH #22\n"
          ]
        },
        {
          "output_type": "stream",
          "name": "stderr",
          "text": [
            "train loss = 0.010217024013400078: 100%|██████████| 13/13 [00:04<00:00,  2.91it/s]\n",
            "accuracy 82.69 percentage || Correct 43 out of 52 samples: 100%|██████████| 4/4 [00:00<00:00,  5.22it/s]\n"
          ]
        },
        {
          "output_type": "stream",
          "name": "stdout",
          "text": [
            "EPOCH #23\n"
          ]
        },
        {
          "output_type": "stream",
          "name": "stderr",
          "text": [
            "train loss = 0.01057739183306694: 100%|██████████| 13/13 [00:04<00:00,  2.81it/s]\n",
            "accuracy 82.69 percentage || Correct 43 out of 52 samples: 100%|██████████| 4/4 [00:00<00:00,  5.12it/s]\n"
          ]
        },
        {
          "output_type": "stream",
          "name": "stdout",
          "text": [
            "EPOCH #24\n"
          ]
        },
        {
          "output_type": "stream",
          "name": "stderr",
          "text": [
            "train loss = 0.010966950096189976: 100%|██████████| 13/13 [00:04<00:00,  2.80it/s]\n",
            "accuracy 80.77 percentage || Correct 42 out of 52 samples: 100%|██████████| 4/4 [00:00<00:00,  5.02it/s]\n"
          ]
        },
        {
          "output_type": "stream",
          "name": "stdout",
          "text": [
            "EPOCH #25\n"
          ]
        },
        {
          "output_type": "stream",
          "name": "stderr",
          "text": [
            "train loss = 0.010941830463707447: 100%|██████████| 13/13 [00:04<00:00,  2.83it/s]\n",
            "accuracy 78.85 percentage || Correct 41 out of 52 samples: 100%|██████████| 4/4 [00:00<00:00,  5.16it/s]\n"
          ]
        },
        {
          "output_type": "stream",
          "name": "stdout",
          "text": [
            "EPOCH #26\n"
          ]
        },
        {
          "output_type": "stream",
          "name": "stderr",
          "text": [
            "train loss = 0.007297658361494541: 100%|██████████| 13/13 [00:04<00:00,  2.74it/s]\n",
            "accuracy 82.69 percentage || Correct 43 out of 52 samples: 100%|██████████| 4/4 [00:00<00:00,  4.68it/s]\n"
          ]
        },
        {
          "output_type": "stream",
          "name": "stdout",
          "text": [
            "EPOCH #27\n"
          ]
        },
        {
          "output_type": "stream",
          "name": "stderr",
          "text": [
            "train loss = 0.008080780506134033: 100%|██████████| 13/13 [00:04<00:00,  2.86it/s]\n",
            "accuracy 78.85 percentage || Correct 41 out of 52 samples: 100%|██████████| 4/4 [00:00<00:00,  4.45it/s]\n"
          ]
        },
        {
          "output_type": "stream",
          "name": "stdout",
          "text": [
            "EPOCH #28\n"
          ]
        },
        {
          "output_type": "stream",
          "name": "stderr",
          "text": [
            "train loss = 0.009059960953891277: 100%|██████████| 13/13 [00:04<00:00,  2.86it/s]\n",
            "accuracy 78.85 percentage || Correct 41 out of 52 samples: 100%|██████████| 4/4 [00:00<00:00,  5.05it/s]\n"
          ]
        },
        {
          "output_type": "stream",
          "name": "stdout",
          "text": [
            "EPOCH #29\n"
          ]
        },
        {
          "output_type": "stream",
          "name": "stderr",
          "text": [
            "train loss = 0.009662163443863392: 100%|██████████| 13/13 [00:04<00:00,  2.81it/s]\n",
            "accuracy 80.77 percentage || Correct 42 out of 52 samples: 100%|██████████| 4/4 [00:00<00:00,  5.32it/s]\n"
          ]
        },
        {
          "output_type": "stream",
          "name": "stdout",
          "text": [
            "EPOCH #30\n"
          ]
        },
        {
          "output_type": "stream",
          "name": "stderr",
          "text": [
            "train loss = 0.008198282681405544: 100%|██████████| 13/13 [00:04<00:00,  2.73it/s]\n",
            "accuracy 82.69 percentage || Correct 43 out of 52 samples: 100%|██████████| 4/4 [00:00<00:00,  4.98it/s]\n"
          ]
        },
        {
          "output_type": "stream",
          "name": "stdout",
          "text": [
            "before\n"
          ]
        },
        {
          "output_type": "stream",
          "name": "stderr",
          "text": [
            "52it [00:01, 46.85it/s]\n"
          ]
        }
      ]
    },
    {
      "cell_type": "markdown",
      "source": [
        "**AlexNet Model**  \\\n",
        "Re-training pytorch's AlexNet model. In row #2 below we modify the final FC layer to fit the number of our classes (13)\n"
      ],
      "metadata": {
        "id": "kqEx4XIDIRI3"
      }
    },
    {
      "cell_type": "code",
      "source": [
        "all_models = models.alexnet(pretrained=True)\n",
        "all_models.classifier[6] = nn.Linear(4096,13)"
      ],
      "metadata": {
        "id": "mzGTOxhVINhW"
      },
      "execution_count": 247,
      "outputs": []
    },
    {
      "cell_type": "code",
      "source": [
        "alexnet_train_loss,alexnet_test_acc,alexnet_y_true,alexnet_y_pred = retrain_models(all_models,test_loader,train_loader,loss,'AlexNet',30)"
      ],
      "metadata": {
        "colab": {
          "base_uri": "https://localhost:8080/"
        },
        "id": "dOOLqpQN7MRL",
        "outputId": "282e1720-7044-4408-9152-fca130bd43e6"
      },
      "execution_count": 248,
      "outputs": [
        {
          "output_type": "stream",
          "name": "stdout",
          "text": [
            "EPOCH #1\n"
          ]
        },
        {
          "output_type": "stream",
          "name": "stderr",
          "text": [
            "train loss = 14.038252830505371: 100%|██████████| 13/13 [00:04<00:00,  2.98it/s]\n",
            "accuracy 1.92 percentage || Correct 1 out of 52 samples: 100%|██████████| 4/4 [00:00<00:00,  5.07it/s]\n"
          ]
        },
        {
          "output_type": "stream",
          "name": "stdout",
          "text": [
            "EPOCH #2\n"
          ]
        },
        {
          "output_type": "stream",
          "name": "stderr",
          "text": [
            "train loss = 3.1973302364349365: 100%|██████████| 13/13 [00:04<00:00,  3.12it/s]\n",
            "accuracy 26.92 percentage || Correct 14 out of 52 samples: 100%|██████████| 4/4 [00:00<00:00,  5.11it/s]\n"
          ]
        },
        {
          "output_type": "stream",
          "name": "stdout",
          "text": [
            "EPOCH #3\n"
          ]
        },
        {
          "output_type": "stream",
          "name": "stderr",
          "text": [
            "train loss = 1.8066926002502441: 100%|██████████| 13/13 [00:04<00:00,  3.04it/s]\n",
            "accuracy 28.85 percentage || Correct 15 out of 52 samples: 100%|██████████| 4/4 [00:00<00:00,  5.13it/s]\n"
          ]
        },
        {
          "output_type": "stream",
          "name": "stdout",
          "text": [
            "EPOCH #4\n"
          ]
        },
        {
          "output_type": "stream",
          "name": "stderr",
          "text": [
            "train loss = 1.139932632446289: 100%|██████████| 13/13 [00:04<00:00,  3.14it/s]\n",
            "accuracy 28.85 percentage || Correct 15 out of 52 samples: 100%|██████████| 4/4 [00:00<00:00,  5.16it/s]\n"
          ]
        },
        {
          "output_type": "stream",
          "name": "stdout",
          "text": [
            "EPOCH #5\n"
          ]
        },
        {
          "output_type": "stream",
          "name": "stderr",
          "text": [
            "train loss = 0.9556914567947388: 100%|██████████| 13/13 [00:04<00:00,  3.22it/s]\n",
            "accuracy 38.46 percentage || Correct 20 out of 52 samples: 100%|██████████| 4/4 [00:00<00:00,  5.69it/s]\n"
          ]
        },
        {
          "output_type": "stream",
          "name": "stdout",
          "text": [
            "EPOCH #6\n"
          ]
        },
        {
          "output_type": "stream",
          "name": "stderr",
          "text": [
            "train loss = 0.5763229131698608: 100%|██████████| 13/13 [00:04<00:00,  3.16it/s]\n",
            "accuracy 34.62 percentage || Correct 18 out of 52 samples: 100%|██████████| 4/4 [00:00<00:00,  5.08it/s]\n"
          ]
        },
        {
          "output_type": "stream",
          "name": "stdout",
          "text": [
            "EPOCH #7\n"
          ]
        },
        {
          "output_type": "stream",
          "name": "stderr",
          "text": [
            "train loss = 0.5337518453598022: 100%|██████████| 13/13 [00:04<00:00,  3.13it/s]\n",
            "accuracy 34.62 percentage || Correct 18 out of 52 samples: 100%|██████████| 4/4 [00:00<00:00,  5.51it/s]\n"
          ]
        },
        {
          "output_type": "stream",
          "name": "stdout",
          "text": [
            "EPOCH #8\n"
          ]
        },
        {
          "output_type": "stream",
          "name": "stderr",
          "text": [
            "train loss = 0.3536462187767029: 100%|██████████| 13/13 [00:04<00:00,  3.21it/s]\n",
            "accuracy 42.31 percentage || Correct 22 out of 52 samples: 100%|██████████| 4/4 [00:00<00:00,  4.99it/s]\n"
          ]
        },
        {
          "output_type": "stream",
          "name": "stdout",
          "text": [
            "EPOCH #9\n"
          ]
        },
        {
          "output_type": "stream",
          "name": "stderr",
          "text": [
            "train loss = 0.23269802331924438: 100%|██████████| 13/13 [00:03<00:00,  3.27it/s]\n",
            "accuracy 44.23 percentage || Correct 23 out of 52 samples: 100%|██████████| 4/4 [00:00<00:00,  5.37it/s]\n"
          ]
        },
        {
          "output_type": "stream",
          "name": "stdout",
          "text": [
            "EPOCH #10\n"
          ]
        },
        {
          "output_type": "stream",
          "name": "stderr",
          "text": [
            "train loss = 0.1805981993675232: 100%|██████████| 13/13 [00:04<00:00,  3.12it/s]\n",
            "accuracy 46.15 percentage || Correct 24 out of 52 samples: 100%|██████████| 4/4 [00:00<00:00,  5.01it/s]\n"
          ]
        },
        {
          "output_type": "stream",
          "name": "stdout",
          "text": [
            "EPOCH #11\n"
          ]
        },
        {
          "output_type": "stream",
          "name": "stderr",
          "text": [
            "train loss = 0.14480090141296387: 100%|██████████| 13/13 [00:04<00:00,  3.09it/s]\n",
            "accuracy 40.38 percentage || Correct 21 out of 52 samples: 100%|██████████| 4/4 [00:00<00:00,  5.34it/s]\n"
          ]
        },
        {
          "output_type": "stream",
          "name": "stdout",
          "text": [
            "EPOCH #12\n"
          ]
        },
        {
          "output_type": "stream",
          "name": "stderr",
          "text": [
            "train loss = 0.09276729822158813: 100%|██████████| 13/13 [00:04<00:00,  3.10it/s]\n",
            "accuracy 42.31 percentage || Correct 22 out of 52 samples: 100%|██████████| 4/4 [00:00<00:00,  5.47it/s]\n"
          ]
        },
        {
          "output_type": "stream",
          "name": "stdout",
          "text": [
            "EPOCH #13\n"
          ]
        },
        {
          "output_type": "stream",
          "name": "stderr",
          "text": [
            "train loss = 0.07025788724422455: 100%|██████████| 13/13 [00:04<00:00,  3.11it/s]\n",
            "accuracy 42.31 percentage || Correct 22 out of 52 samples: 100%|██████████| 4/4 [00:00<00:00,  4.93it/s]\n"
          ]
        },
        {
          "output_type": "stream",
          "name": "stdout",
          "text": [
            "EPOCH #14\n"
          ]
        },
        {
          "output_type": "stream",
          "name": "stderr",
          "text": [
            "train loss = 0.2133389711380005: 100%|██████████| 13/13 [00:04<00:00,  2.76it/s]\n",
            "accuracy 44.23 percentage || Correct 23 out of 52 samples: 100%|██████████| 4/4 [00:01<00:00,  3.81it/s]\n"
          ]
        },
        {
          "output_type": "stream",
          "name": "stdout",
          "text": [
            "EPOCH #15\n"
          ]
        },
        {
          "output_type": "stream",
          "name": "stderr",
          "text": [
            "train loss = 0.11778552085161209: 100%|██████████| 13/13 [00:04<00:00,  2.94it/s]\n",
            "accuracy 42.31 percentage || Correct 22 out of 52 samples: 100%|██████████| 4/4 [00:00<00:00,  5.13it/s]\n"
          ]
        },
        {
          "output_type": "stream",
          "name": "stdout",
          "text": [
            "EPOCH #16\n"
          ]
        },
        {
          "output_type": "stream",
          "name": "stderr",
          "text": [
            "train loss = 0.03860689327120781: 100%|██████████| 13/13 [00:04<00:00,  3.09it/s]\n",
            "accuracy 48.08 percentage || Correct 25 out of 52 samples: 100%|██████████| 4/4 [00:00<00:00,  5.07it/s]\n"
          ]
        },
        {
          "output_type": "stream",
          "name": "stdout",
          "text": [
            "EPOCH #17\n"
          ]
        },
        {
          "output_type": "stream",
          "name": "stderr",
          "text": [
            "train loss = 0.03935128450393677: 100%|██████████| 13/13 [00:04<00:00,  3.06it/s]\n",
            "accuracy 42.31 percentage || Correct 22 out of 52 samples: 100%|██████████| 4/4 [00:00<00:00,  5.29it/s]\n"
          ]
        },
        {
          "output_type": "stream",
          "name": "stdout",
          "text": [
            "EPOCH #18\n"
          ]
        },
        {
          "output_type": "stream",
          "name": "stderr",
          "text": [
            "train loss = 0.02441509999334812: 100%|██████████| 13/13 [00:04<00:00,  2.95it/s]\n",
            "accuracy 34.62 percentage || Correct 18 out of 52 samples: 100%|██████████| 4/4 [00:00<00:00,  5.76it/s]\n"
          ]
        },
        {
          "output_type": "stream",
          "name": "stdout",
          "text": [
            "EPOCH #19\n"
          ]
        },
        {
          "output_type": "stream",
          "name": "stderr",
          "text": [
            "train loss = 0.030735205858945847: 100%|██████████| 13/13 [00:04<00:00,  3.03it/s]\n",
            "accuracy 38.46 percentage || Correct 20 out of 52 samples: 100%|██████████| 4/4 [00:00<00:00,  4.47it/s]\n"
          ]
        },
        {
          "output_type": "stream",
          "name": "stdout",
          "text": [
            "EPOCH #20\n"
          ]
        },
        {
          "output_type": "stream",
          "name": "stderr",
          "text": [
            "train loss = 0.011205782182514668: 100%|██████████| 13/13 [00:04<00:00,  2.90it/s]\n",
            "accuracy 38.46 percentage || Correct 20 out of 52 samples: 100%|██████████| 4/4 [00:00<00:00,  5.20it/s]\n"
          ]
        },
        {
          "output_type": "stream",
          "name": "stdout",
          "text": [
            "EPOCH #21\n"
          ]
        },
        {
          "output_type": "stream",
          "name": "stderr",
          "text": [
            "train loss = 0.030431363731622696: 100%|██████████| 13/13 [00:04<00:00,  3.13it/s]\n",
            "accuracy 36.54 percentage || Correct 19 out of 52 samples: 100%|██████████| 4/4 [00:00<00:00,  4.97it/s]\n"
          ]
        },
        {
          "output_type": "stream",
          "name": "stdout",
          "text": [
            "EPOCH #22\n"
          ]
        },
        {
          "output_type": "stream",
          "name": "stderr",
          "text": [
            "train loss = 0.007613516878336668: 100%|██████████| 13/13 [00:04<00:00,  3.03it/s]\n",
            "accuracy 36.54 percentage || Correct 19 out of 52 samples: 100%|██████████| 4/4 [00:00<00:00,  5.36it/s]\n"
          ]
        },
        {
          "output_type": "stream",
          "name": "stdout",
          "text": [
            "EPOCH #23\n"
          ]
        },
        {
          "output_type": "stream",
          "name": "stderr",
          "text": [
            "train loss = 0.026370862498879433: 100%|██████████| 13/13 [00:04<00:00,  2.97it/s]\n",
            "accuracy 36.54 percentage || Correct 19 out of 52 samples: 100%|██████████| 4/4 [00:00<00:00,  4.56it/s]\n"
          ]
        },
        {
          "output_type": "stream",
          "name": "stdout",
          "text": [
            "EPOCH #24\n"
          ]
        },
        {
          "output_type": "stream",
          "name": "stderr",
          "text": [
            "train loss = 0.008124096319079399: 100%|██████████| 13/13 [00:04<00:00,  3.10it/s]\n",
            "accuracy 42.31 percentage || Correct 22 out of 52 samples: 100%|██████████| 4/4 [00:00<00:00,  5.12it/s]\n"
          ]
        },
        {
          "output_type": "stream",
          "name": "stdout",
          "text": [
            "EPOCH #25\n"
          ]
        },
        {
          "output_type": "stream",
          "name": "stderr",
          "text": [
            "train loss = 0.01716621406376362: 100%|██████████| 13/13 [00:04<00:00,  3.05it/s]\n",
            "accuracy 46.15 percentage || Correct 24 out of 52 samples: 100%|██████████| 4/4 [00:00<00:00,  5.34it/s]\n"
          ]
        },
        {
          "output_type": "stream",
          "name": "stdout",
          "text": [
            "EPOCH #26\n"
          ]
        },
        {
          "output_type": "stream",
          "name": "stderr",
          "text": [
            "train loss = 0.009731910191476345: 100%|██████████| 13/13 [00:04<00:00,  3.02it/s]\n",
            "accuracy 46.15 percentage || Correct 24 out of 52 samples: 100%|██████████| 4/4 [00:00<00:00,  5.58it/s]\n"
          ]
        },
        {
          "output_type": "stream",
          "name": "stdout",
          "text": [
            "EPOCH #27\n"
          ]
        },
        {
          "output_type": "stream",
          "name": "stderr",
          "text": [
            "train loss = 0.02625611051917076: 100%|██████████| 13/13 [00:04<00:00,  3.11it/s]\n",
            "accuracy 44.23 percentage || Correct 23 out of 52 samples: 100%|██████████| 4/4 [00:00<00:00,  5.49it/s]\n"
          ]
        },
        {
          "output_type": "stream",
          "name": "stdout",
          "text": [
            "EPOCH #28\n"
          ]
        },
        {
          "output_type": "stream",
          "name": "stderr",
          "text": [
            "train loss = 0.007648447062820196: 100%|██████████| 13/13 [00:04<00:00,  3.14it/s]\n",
            "accuracy 38.46 percentage || Correct 20 out of 52 samples: 100%|██████████| 4/4 [00:00<00:00,  5.16it/s]\n"
          ]
        },
        {
          "output_type": "stream",
          "name": "stdout",
          "text": [
            "EPOCH #29\n"
          ]
        },
        {
          "output_type": "stream",
          "name": "stderr",
          "text": [
            "train loss = 0.0072357808239758015: 100%|██████████| 13/13 [00:04<00:00,  3.02it/s]\n",
            "accuracy 38.46 percentage || Correct 20 out of 52 samples: 100%|██████████| 4/4 [00:00<00:00,  5.34it/s]\n"
          ]
        },
        {
          "output_type": "stream",
          "name": "stdout",
          "text": [
            "EPOCH #30\n"
          ]
        },
        {
          "output_type": "stream",
          "name": "stderr",
          "text": [
            "train loss = 0.008474239148199558: 100%|██████████| 13/13 [00:04<00:00,  3.11it/s]\n",
            "accuracy 42.31 percentage || Correct 22 out of 52 samples: 100%|██████████| 4/4 [00:00<00:00,  5.58it/s]\n"
          ]
        },
        {
          "output_type": "stream",
          "name": "stdout",
          "text": [
            "before\n"
          ]
        },
        {
          "output_type": "stream",
          "name": "stderr",
          "text": [
            "52it [00:00, 58.96it/s]\n"
          ]
        }
      ]
    },
    {
      "cell_type": "markdown",
      "source": [
        "**EfficientNet Model** \\\n",
        "Re-training pytorch's EfficientNetb7 model. In box #250 below we modify the final FC layer to fit the number of our classes (13)"
      ],
      "metadata": {
        "id": "l31exKdDInTi"
      }
    },
    {
      "cell_type": "code",
      "source": [
        "all_models = models.efficientnet_b7(pretrained = True)"
      ],
      "metadata": {
        "id": "kgfp_HTi49Ch"
      },
      "execution_count": 249,
      "outputs": []
    },
    {
      "cell_type": "code",
      "source": [
        "all_models.classifier = nn.Sequential(\n",
        "    nn.Dropout(p=0.5,inplace = True),\n",
        "    nn.Linear(in_features = 2560, out_features = 13, bias = True)\n",
        ")"
      ],
      "metadata": {
        "id": "zY3WCAAHzeL8"
      },
      "execution_count": 250,
      "outputs": []
    },
    {
      "cell_type": "code",
      "source": [
        "efficientnet_train_loss,efficientnet_test_acc,efficientnet_y_true,efficientnet_y_pred = retrain_models(all_models,test_loader,train_loader,loss,'EfficientNet',30)"
      ],
      "metadata": {
        "colab": {
          "base_uri": "https://localhost:8080/"
        },
        "id": "GQOaZplgJCC4",
        "outputId": "28cd4dc5-08bf-439f-f905-a32e165489ab"
      },
      "execution_count": 251,
      "outputs": [
        {
          "output_type": "stream",
          "name": "stdout",
          "text": [
            "EPOCH #1\n"
          ]
        },
        {
          "output_type": "stream",
          "name": "stderr",
          "text": [
            "train loss = 2.5037944316864014: 100%|██████████| 13/13 [00:11<00:00,  1.09it/s]\n",
            "accuracy 3.85 percentage || Correct 2 out of 52 samples: 100%|██████████| 4/4 [00:01<00:00,  3.22it/s]\n"
          ]
        },
        {
          "output_type": "stream",
          "name": "stdout",
          "text": [
            "EPOCH #2\n"
          ]
        },
        {
          "output_type": "stream",
          "name": "stderr",
          "text": [
            "train loss = 2.0985515117645264: 100%|██████████| 13/13 [00:11<00:00,  1.09it/s]\n",
            "accuracy 3.85 percentage || Correct 2 out of 52 samples: 100%|██████████| 4/4 [00:01<00:00,  3.45it/s]\n"
          ]
        },
        {
          "output_type": "stream",
          "name": "stdout",
          "text": [
            "EPOCH #3\n"
          ]
        },
        {
          "output_type": "stream",
          "name": "stderr",
          "text": [
            "train loss = 1.6529524326324463: 100%|██████████| 13/13 [00:12<00:00,  1.06it/s]\n",
            "accuracy 17.31 percentage || Correct 9 out of 52 samples: 100%|██████████| 4/4 [00:01<00:00,  3.39it/s]\n"
          ]
        },
        {
          "output_type": "stream",
          "name": "stdout",
          "text": [
            "EPOCH #4\n"
          ]
        },
        {
          "output_type": "stream",
          "name": "stderr",
          "text": [
            "train loss = 1.1669886112213135: 100%|██████████| 13/13 [00:12<00:00,  1.07it/s]\n",
            "accuracy 26.92 percentage || Correct 14 out of 52 samples: 100%|██████████| 4/4 [00:01<00:00,  3.25it/s]\n"
          ]
        },
        {
          "output_type": "stream",
          "name": "stdout",
          "text": [
            "EPOCH #5\n"
          ]
        },
        {
          "output_type": "stream",
          "name": "stderr",
          "text": [
            "train loss = 0.7964264154434204: 100%|██████████| 13/13 [00:12<00:00,  1.08it/s]\n",
            "accuracy 38.46 percentage || Correct 20 out of 52 samples: 100%|██████████| 4/4 [00:01<00:00,  3.37it/s]\n"
          ]
        },
        {
          "output_type": "stream",
          "name": "stdout",
          "text": [
            "EPOCH #6\n"
          ]
        },
        {
          "output_type": "stream",
          "name": "stderr",
          "text": [
            "train loss = 0.4834362864494324: 100%|██████████| 13/13 [00:12<00:00,  1.07it/s]\n",
            "accuracy 46.15 percentage || Correct 24 out of 52 samples: 100%|██████████| 4/4 [00:01<00:00,  3.22it/s]\n"
          ]
        },
        {
          "output_type": "stream",
          "name": "stdout",
          "text": [
            "EPOCH #7\n"
          ]
        },
        {
          "output_type": "stream",
          "name": "stderr",
          "text": [
            "train loss = 0.2938498556613922: 100%|██████████| 13/13 [00:12<00:00,  1.06it/s]\n",
            "accuracy 55.77 percentage || Correct 29 out of 52 samples: 100%|██████████| 4/4 [00:01<00:00,  3.18it/s]\n"
          ]
        },
        {
          "output_type": "stream",
          "name": "stdout",
          "text": [
            "EPOCH #8\n"
          ]
        },
        {
          "output_type": "stream",
          "name": "stderr",
          "text": [
            "train loss = 0.1781364232301712: 100%|██████████| 13/13 [00:12<00:00,  1.07it/s]\n",
            "accuracy 67.31 percentage || Correct 35 out of 52 samples: 100%|██████████| 4/4 [00:01<00:00,  3.19it/s]\n"
          ]
        },
        {
          "output_type": "stream",
          "name": "stdout",
          "text": [
            "EPOCH #9\n"
          ]
        },
        {
          "output_type": "stream",
          "name": "stderr",
          "text": [
            "train loss = 0.12492963671684265: 100%|██████████| 13/13 [00:12<00:00,  1.07it/s]\n",
            "accuracy 71.15 percentage || Correct 37 out of 52 samples: 100%|██████████| 4/4 [00:01<00:00,  3.20it/s]\n"
          ]
        },
        {
          "output_type": "stream",
          "name": "stdout",
          "text": [
            "EPOCH #10\n"
          ]
        },
        {
          "output_type": "stream",
          "name": "stderr",
          "text": [
            "train loss = 0.086275115609169: 100%|██████████| 13/13 [00:12<00:00,  1.07it/s]\n",
            "accuracy 78.85 percentage || Correct 41 out of 52 samples: 100%|██████████| 4/4 [00:01<00:00,  3.18it/s]\n"
          ]
        },
        {
          "output_type": "stream",
          "name": "stdout",
          "text": [
            "EPOCH #11\n"
          ]
        },
        {
          "output_type": "stream",
          "name": "stderr",
          "text": [
            "train loss = 0.06309164315462112: 100%|██████████| 13/13 [00:12<00:00,  1.08it/s]\n",
            "accuracy 78.85 percentage || Correct 41 out of 52 samples: 100%|██████████| 4/4 [00:01<00:00,  3.28it/s]\n"
          ]
        },
        {
          "output_type": "stream",
          "name": "stdout",
          "text": [
            "EPOCH #12\n"
          ]
        },
        {
          "output_type": "stream",
          "name": "stderr",
          "text": [
            "train loss = 0.05867199972271919: 100%|██████████| 13/13 [00:12<00:00,  1.07it/s]\n",
            "accuracy 78.85 percentage || Correct 41 out of 52 samples: 100%|██████████| 4/4 [00:01<00:00,  3.21it/s]\n"
          ]
        },
        {
          "output_type": "stream",
          "name": "stdout",
          "text": [
            "EPOCH #13\n"
          ]
        },
        {
          "output_type": "stream",
          "name": "stderr",
          "text": [
            "train loss = 0.053104277700185776: 100%|██████████| 13/13 [00:12<00:00,  1.07it/s]\n",
            "accuracy 78.85 percentage || Correct 41 out of 52 samples: 100%|██████████| 4/4 [00:01<00:00,  3.14it/s]\n"
          ]
        },
        {
          "output_type": "stream",
          "name": "stdout",
          "text": [
            "EPOCH #14\n"
          ]
        },
        {
          "output_type": "stream",
          "name": "stderr",
          "text": [
            "train loss = 0.04463783651590347: 100%|██████████| 13/13 [00:12<00:00,  1.08it/s]\n",
            "accuracy 82.69 percentage || Correct 43 out of 52 samples: 100%|██████████| 4/4 [00:01<00:00,  3.24it/s]\n"
          ]
        },
        {
          "output_type": "stream",
          "name": "stdout",
          "text": [
            "EPOCH #15\n"
          ]
        },
        {
          "output_type": "stream",
          "name": "stderr",
          "text": [
            "train loss = 0.036991339176893234: 100%|██████████| 13/13 [00:12<00:00,  1.06it/s]\n",
            "accuracy 84.62 percentage || Correct 44 out of 52 samples: 100%|██████████| 4/4 [00:01<00:00,  3.20it/s]\n"
          ]
        },
        {
          "output_type": "stream",
          "name": "stdout",
          "text": [
            "EPOCH #16\n"
          ]
        },
        {
          "output_type": "stream",
          "name": "stderr",
          "text": [
            "train loss = 0.02905583567917347: 100%|██████████| 13/13 [00:11<00:00,  1.09it/s]\n",
            "accuracy 88.46 percentage || Correct 46 out of 52 samples: 100%|██████████| 4/4 [00:01<00:00,  3.24it/s]\n"
          ]
        },
        {
          "output_type": "stream",
          "name": "stdout",
          "text": [
            "EPOCH #17\n"
          ]
        },
        {
          "output_type": "stream",
          "name": "stderr",
          "text": [
            "train loss = 0.028815947473049164: 100%|██████████| 13/13 [00:12<00:00,  1.06it/s]\n",
            "accuracy 86.54 percentage || Correct 45 out of 52 samples: 100%|██████████| 4/4 [00:01<00:00,  3.33it/s]\n"
          ]
        },
        {
          "output_type": "stream",
          "name": "stdout",
          "text": [
            "EPOCH #18\n"
          ]
        },
        {
          "output_type": "stream",
          "name": "stderr",
          "text": [
            "train loss = 0.023345397785305977: 100%|██████████| 13/13 [00:12<00:00,  1.07it/s]\n",
            "accuracy 86.54 percentage || Correct 45 out of 52 samples: 100%|██████████| 4/4 [00:01<00:00,  3.37it/s]\n"
          ]
        },
        {
          "output_type": "stream",
          "name": "stdout",
          "text": [
            "EPOCH #19\n"
          ]
        },
        {
          "output_type": "stream",
          "name": "stderr",
          "text": [
            "train loss = 0.017920812591910362: 100%|██████████| 13/13 [00:12<00:00,  1.08it/s]\n",
            "accuracy 86.54 percentage || Correct 45 out of 52 samples: 100%|██████████| 4/4 [00:01<00:00,  3.39it/s]\n"
          ]
        },
        {
          "output_type": "stream",
          "name": "stdout",
          "text": [
            "EPOCH #20\n"
          ]
        },
        {
          "output_type": "stream",
          "name": "stderr",
          "text": [
            "train loss = 0.023960206657648087: 100%|██████████| 13/13 [00:12<00:00,  1.06it/s]\n",
            "accuracy 84.62 percentage || Correct 44 out of 52 samples: 100%|██████████| 4/4 [00:01<00:00,  3.34it/s]\n"
          ]
        },
        {
          "output_type": "stream",
          "name": "stdout",
          "text": [
            "EPOCH #21\n"
          ]
        },
        {
          "output_type": "stream",
          "name": "stderr",
          "text": [
            "train loss = 0.014350993558764458: 100%|██████████| 13/13 [00:12<00:00,  1.07it/s]\n",
            "accuracy 86.54 percentage || Correct 45 out of 52 samples: 100%|██████████| 4/4 [00:01<00:00,  3.22it/s]\n"
          ]
        },
        {
          "output_type": "stream",
          "name": "stdout",
          "text": [
            "EPOCH #22\n"
          ]
        },
        {
          "output_type": "stream",
          "name": "stderr",
          "text": [
            "train loss = 0.018294259905815125: 100%|██████████| 13/13 [00:12<00:00,  1.07it/s]\n",
            "accuracy 86.54 percentage || Correct 45 out of 52 samples: 100%|██████████| 4/4 [00:01<00:00,  3.36it/s]\n"
          ]
        },
        {
          "output_type": "stream",
          "name": "stdout",
          "text": [
            "EPOCH #23\n"
          ]
        },
        {
          "output_type": "stream",
          "name": "stderr",
          "text": [
            "train loss = 0.019918540492653847: 100%|██████████| 13/13 [00:12<00:00,  1.06it/s]\n",
            "accuracy 88.46 percentage || Correct 46 out of 52 samples: 100%|██████████| 4/4 [00:01<00:00,  3.14it/s]\n"
          ]
        },
        {
          "output_type": "stream",
          "name": "stdout",
          "text": [
            "EPOCH #24\n"
          ]
        },
        {
          "output_type": "stream",
          "name": "stderr",
          "text": [
            "train loss = 0.028648588806390762: 100%|██████████| 13/13 [00:12<00:00,  1.01it/s]\n",
            "accuracy 86.54 percentage || Correct 45 out of 52 samples: 100%|██████████| 4/4 [00:01<00:00,  3.18it/s]\n"
          ]
        },
        {
          "output_type": "stream",
          "name": "stdout",
          "text": [
            "EPOCH #25\n"
          ]
        },
        {
          "output_type": "stream",
          "name": "stderr",
          "text": [
            "train loss = 0.015182244591414928: 100%|██████████| 13/13 [00:11<00:00,  1.09it/s]\n",
            "accuracy 86.54 percentage || Correct 45 out of 52 samples: 100%|██████████| 4/4 [00:01<00:00,  3.11it/s]\n"
          ]
        },
        {
          "output_type": "stream",
          "name": "stdout",
          "text": [
            "EPOCH #26\n"
          ]
        },
        {
          "output_type": "stream",
          "name": "stderr",
          "text": [
            "train loss = 0.022189484909176826: 100%|██████████| 13/13 [00:12<00:00,  1.07it/s]\n",
            "accuracy 86.54 percentage || Correct 45 out of 52 samples: 100%|██████████| 4/4 [00:01<00:00,  3.33it/s]\n"
          ]
        },
        {
          "output_type": "stream",
          "name": "stdout",
          "text": [
            "EPOCH #27\n"
          ]
        },
        {
          "output_type": "stream",
          "name": "stderr",
          "text": [
            "train loss = 0.01854701340198517: 100%|██████████| 13/13 [00:11<00:00,  1.09it/s]\n",
            "accuracy 88.46 percentage || Correct 46 out of 52 samples: 100%|██████████| 4/4 [00:01<00:00,  3.30it/s]\n"
          ]
        },
        {
          "output_type": "stream",
          "name": "stdout",
          "text": [
            "EPOCH #28\n"
          ]
        },
        {
          "output_type": "stream",
          "name": "stderr",
          "text": [
            "train loss = 0.02198861911892891: 100%|██████████| 13/13 [00:12<00:00,  1.07it/s]\n",
            "accuracy 86.54 percentage || Correct 45 out of 52 samples: 100%|██████████| 4/4 [00:01<00:00,  3.15it/s]\n"
          ]
        },
        {
          "output_type": "stream",
          "name": "stdout",
          "text": [
            "EPOCH #29\n"
          ]
        },
        {
          "output_type": "stream",
          "name": "stderr",
          "text": [
            "train loss = 0.01696300320327282: 100%|██████████| 13/13 [00:12<00:00,  1.05it/s]\n",
            "accuracy 88.46 percentage || Correct 46 out of 52 samples: 100%|██████████| 4/4 [00:01<00:00,  3.24it/s]\n"
          ]
        },
        {
          "output_type": "stream",
          "name": "stdout",
          "text": [
            "EPOCH #30\n"
          ]
        },
        {
          "output_type": "stream",
          "name": "stderr",
          "text": [
            "train loss = 0.027484852820634842: 100%|██████████| 13/13 [00:11<00:00,  1.08it/s]\n",
            "accuracy 84.62 percentage || Correct 44 out of 52 samples: 100%|██████████| 4/4 [00:01<00:00,  3.08it/s]\n"
          ]
        },
        {
          "output_type": "stream",
          "name": "stdout",
          "text": [
            "before\n"
          ]
        },
        {
          "output_type": "stream",
          "name": "stderr",
          "text": [
            "52it [00:03, 17.03it/s]\n"
          ]
        }
      ]
    },
    {
      "cell_type": "markdown",
      "source": [
        "**GoogleNet Model** \\\n",
        "Re-training pytorch's GoogleNet model. In row #2 below we modify the final FC layer to fit the number of our classes (13)"
      ],
      "metadata": {
        "id": "ShAxc6YHI1VI"
      }
    },
    {
      "cell_type": "code",
      "source": [
        "all_models = models.googlenet(pretrained = True)\n",
        "all_models.fc = nn.Linear(1024,13)"
      ],
      "metadata": {
        "id": "eyFZIoh88BSc"
      },
      "execution_count": 143,
      "outputs": []
    },
    {
      "cell_type": "code",
      "source": [
        "googlenet_train_loss,googlenet_test_acc,googlenet_y_true,googlenet_y_pred = retrain_models(all_models,test_loader,train_loader,loss,'GoogleNet',30)"
      ],
      "metadata": {
        "colab": {
          "base_uri": "https://localhost:8080/"
        },
        "id": "sp_VInmn8Fyn",
        "outputId": "58ac9b91-0117-4c46-e4cf-30f9f98b1fbb"
      },
      "execution_count": 252,
      "outputs": [
        {
          "output_type": "stream",
          "name": "stdout",
          "text": [
            "EPOCH #1\n"
          ]
        },
        {
          "output_type": "stream",
          "name": "stderr",
          "text": [
            "train loss = 0.022089559584856033: 100%|██████████| 13/13 [00:12<00:00,  1.08it/s]\n",
            "accuracy 84.62 percentage || Correct 44 out of 52 samples: 100%|██████████| 4/4 [00:01<00:00,  3.21it/s]\n"
          ]
        },
        {
          "output_type": "stream",
          "name": "stdout",
          "text": [
            "EPOCH #2\n"
          ]
        },
        {
          "output_type": "stream",
          "name": "stderr",
          "text": [
            "train loss = 0.011241110041737556: 100%|██████████| 13/13 [00:12<00:00,  1.05it/s]\n",
            "accuracy 88.46 percentage || Correct 46 out of 52 samples: 100%|██████████| 4/4 [00:01<00:00,  3.46it/s]\n"
          ]
        },
        {
          "output_type": "stream",
          "name": "stdout",
          "text": [
            "EPOCH #3\n"
          ]
        },
        {
          "output_type": "stream",
          "name": "stderr",
          "text": [
            "train loss = 0.017911795526742935: 100%|██████████| 13/13 [00:12<00:00,  1.06it/s]\n",
            "accuracy 90.38 percentage || Correct 47 out of 52 samples: 100%|██████████| 4/4 [00:01<00:00,  3.10it/s]\n"
          ]
        },
        {
          "output_type": "stream",
          "name": "stdout",
          "text": [
            "EPOCH #4\n"
          ]
        },
        {
          "output_type": "stream",
          "name": "stderr",
          "text": [
            "train loss = 0.02716095559298992: 100%|██████████| 13/13 [00:12<00:00,  1.06it/s]\n",
            "accuracy 92.31 percentage || Correct 48 out of 52 samples: 100%|██████████| 4/4 [00:01<00:00,  3.24it/s]\n"
          ]
        },
        {
          "output_type": "stream",
          "name": "stdout",
          "text": [
            "EPOCH #5\n"
          ]
        },
        {
          "output_type": "stream",
          "name": "stderr",
          "text": [
            "train loss = 0.018963465467095375: 100%|██████████| 13/13 [00:12<00:00,  1.01it/s]\n",
            "accuracy 90.38 percentage || Correct 47 out of 52 samples: 100%|██████████| 4/4 [00:01<00:00,  3.18it/s]\n"
          ]
        },
        {
          "output_type": "stream",
          "name": "stdout",
          "text": [
            "EPOCH #6\n"
          ]
        },
        {
          "output_type": "stream",
          "name": "stderr",
          "text": [
            "train loss = 0.008820946328341961: 100%|██████████| 13/13 [00:12<00:00,  1.07it/s]\n",
            "accuracy 88.46 percentage || Correct 46 out of 52 samples: 100%|██████████| 4/4 [00:01<00:00,  3.37it/s]\n"
          ]
        },
        {
          "output_type": "stream",
          "name": "stdout",
          "text": [
            "EPOCH #7\n"
          ]
        },
        {
          "output_type": "stream",
          "name": "stderr",
          "text": [
            "train loss = 0.008501138538122177: 100%|██████████| 13/13 [00:12<00:00,  1.07it/s]\n",
            "accuracy 88.46 percentage || Correct 46 out of 52 samples: 100%|██████████| 4/4 [00:01<00:00,  3.19it/s]\n"
          ]
        },
        {
          "output_type": "stream",
          "name": "stdout",
          "text": [
            "EPOCH #8\n"
          ]
        },
        {
          "output_type": "stream",
          "name": "stderr",
          "text": [
            "train loss = 0.007264451589435339: 100%|██████████| 13/13 [00:12<00:00,  1.07it/s]\n",
            "accuracy 90.38 percentage || Correct 47 out of 52 samples: 100%|██████████| 4/4 [00:01<00:00,  3.15it/s]\n"
          ]
        },
        {
          "output_type": "stream",
          "name": "stdout",
          "text": [
            "EPOCH #9\n"
          ]
        },
        {
          "output_type": "stream",
          "name": "stderr",
          "text": [
            "train loss = 0.0047036889009177685: 100%|██████████| 13/13 [00:11<00:00,  1.08it/s]\n",
            "accuracy 88.46 percentage || Correct 46 out of 52 samples: 100%|██████████| 4/4 [00:01<00:00,  3.33it/s]\n"
          ]
        },
        {
          "output_type": "stream",
          "name": "stdout",
          "text": [
            "EPOCH #10\n"
          ]
        },
        {
          "output_type": "stream",
          "name": "stderr",
          "text": [
            "train loss = 0.01837468519806862: 100%|██████████| 13/13 [00:12<00:00,  1.07it/s]\n",
            "accuracy 86.54 percentage || Correct 45 out of 52 samples: 100%|██████████| 4/4 [00:01<00:00,  3.44it/s]\n"
          ]
        },
        {
          "output_type": "stream",
          "name": "stdout",
          "text": [
            "EPOCH #11\n"
          ]
        },
        {
          "output_type": "stream",
          "name": "stderr",
          "text": [
            "train loss = 0.00622517429292202: 100%|██████████| 13/13 [00:12<00:00,  1.05it/s]\n",
            "accuracy 80.77 percentage || Correct 42 out of 52 samples: 100%|██████████| 4/4 [00:01<00:00,  3.31it/s]\n"
          ]
        },
        {
          "output_type": "stream",
          "name": "stdout",
          "text": [
            "EPOCH #12\n"
          ]
        },
        {
          "output_type": "stream",
          "name": "stderr",
          "text": [
            "train loss = 0.004533881321549416: 100%|██████████| 13/13 [00:12<00:00,  1.07it/s]\n",
            "accuracy 84.62 percentage || Correct 44 out of 52 samples: 100%|██████████| 4/4 [00:01<00:00,  3.22it/s]\n"
          ]
        },
        {
          "output_type": "stream",
          "name": "stdout",
          "text": [
            "EPOCH #13\n"
          ]
        },
        {
          "output_type": "stream",
          "name": "stderr",
          "text": [
            "train loss = 0.008195399306714535: 100%|██████████| 13/13 [00:11<00:00,  1.09it/s]\n",
            "accuracy 86.54 percentage || Correct 45 out of 52 samples: 100%|██████████| 4/4 [00:01<00:00,  3.07it/s]\n"
          ]
        },
        {
          "output_type": "stream",
          "name": "stdout",
          "text": [
            "EPOCH #14\n"
          ]
        },
        {
          "output_type": "stream",
          "name": "stderr",
          "text": [
            "train loss = 0.00896372925490141: 100%|██████████| 13/13 [00:12<00:00,  1.07it/s]\n",
            "accuracy 84.62 percentage || Correct 44 out of 52 samples: 100%|██████████| 4/4 [00:01<00:00,  3.25it/s]\n"
          ]
        },
        {
          "output_type": "stream",
          "name": "stdout",
          "text": [
            "EPOCH #15\n"
          ]
        },
        {
          "output_type": "stream",
          "name": "stderr",
          "text": [
            "train loss = 0.0042618946172297: 100%|██████████| 13/13 [00:12<00:00,  1.06it/s]\n",
            "accuracy 84.62 percentage || Correct 44 out of 52 samples: 100%|██████████| 4/4 [00:01<00:00,  3.12it/s]\n"
          ]
        },
        {
          "output_type": "stream",
          "name": "stdout",
          "text": [
            "EPOCH #16\n"
          ]
        },
        {
          "output_type": "stream",
          "name": "stderr",
          "text": [
            "train loss = 0.018882403150200844: 100%|██████████| 13/13 [00:12<00:00,  1.08it/s]\n",
            "accuracy 76.92 percentage || Correct 40 out of 52 samples: 100%|██████████| 4/4 [00:01<00:00,  3.31it/s]\n"
          ]
        },
        {
          "output_type": "stream",
          "name": "stdout",
          "text": [
            "EPOCH #17\n"
          ]
        },
        {
          "output_type": "stream",
          "name": "stderr",
          "text": [
            "train loss = 0.016636420041322708: 100%|██████████| 13/13 [00:12<00:00,  1.07it/s]\n",
            "accuracy 78.85 percentage || Correct 41 out of 52 samples: 100%|██████████| 4/4 [00:01<00:00,  3.40it/s]\n"
          ]
        },
        {
          "output_type": "stream",
          "name": "stdout",
          "text": [
            "EPOCH #18\n"
          ]
        },
        {
          "output_type": "stream",
          "name": "stderr",
          "text": [
            "train loss = 0.025799555703997612: 100%|██████████| 13/13 [00:12<00:00,  1.07it/s]\n",
            "accuracy 75.00 percentage || Correct 39 out of 52 samples: 100%|██████████| 4/4 [00:01<00:00,  3.18it/s]\n"
          ]
        },
        {
          "output_type": "stream",
          "name": "stdout",
          "text": [
            "EPOCH #19\n"
          ]
        },
        {
          "output_type": "stream",
          "name": "stderr",
          "text": [
            "train loss = 0.008987043984234333: 100%|██████████| 13/13 [00:12<00:00,  1.08it/s]\n",
            "accuracy 75.00 percentage || Correct 39 out of 52 samples: 100%|██████████| 4/4 [00:01<00:00,  3.17it/s]\n"
          ]
        },
        {
          "output_type": "stream",
          "name": "stdout",
          "text": [
            "EPOCH #20\n"
          ]
        },
        {
          "output_type": "stream",
          "name": "stderr",
          "text": [
            "train loss = 0.011385301128029823: 100%|██████████| 13/13 [00:12<00:00,  1.07it/s]\n",
            "accuracy 75.00 percentage || Correct 39 out of 52 samples: 100%|██████████| 4/4 [00:01<00:00,  3.37it/s]\n"
          ]
        },
        {
          "output_type": "stream",
          "name": "stdout",
          "text": [
            "EPOCH #21\n"
          ]
        },
        {
          "output_type": "stream",
          "name": "stderr",
          "text": [
            "train loss = 0.01762598380446434: 100%|██████████| 13/13 [00:12<00:00,  1.06it/s]\n",
            "accuracy 71.15 percentage || Correct 37 out of 52 samples: 100%|██████████| 4/4 [00:01<00:00,  3.29it/s]\n"
          ]
        },
        {
          "output_type": "stream",
          "name": "stdout",
          "text": [
            "EPOCH #22\n"
          ]
        },
        {
          "output_type": "stream",
          "name": "stderr",
          "text": [
            "train loss = 0.012418366968631744: 100%|██████████| 13/13 [00:11<00:00,  1.08it/s]\n",
            "accuracy 76.92 percentage || Correct 40 out of 52 samples: 100%|██████████| 4/4 [00:01<00:00,  3.41it/s]\n"
          ]
        },
        {
          "output_type": "stream",
          "name": "stdout",
          "text": [
            "EPOCH #23\n"
          ]
        },
        {
          "output_type": "stream",
          "name": "stderr",
          "text": [
            "train loss = 0.007621982600539923: 100%|██████████| 13/13 [00:12<00:00,  1.08it/s]\n",
            "accuracy 80.77 percentage || Correct 42 out of 52 samples: 100%|██████████| 4/4 [00:01<00:00,  3.22it/s]\n"
          ]
        },
        {
          "output_type": "stream",
          "name": "stdout",
          "text": [
            "EPOCH #24\n"
          ]
        },
        {
          "output_type": "stream",
          "name": "stderr",
          "text": [
            "train loss = 0.01579292118549347: 100%|██████████| 13/13 [00:12<00:00,  1.07it/s]\n",
            "accuracy 80.77 percentage || Correct 42 out of 52 samples: 100%|██████████| 4/4 [00:01<00:00,  3.30it/s]\n"
          ]
        },
        {
          "output_type": "stream",
          "name": "stdout",
          "text": [
            "EPOCH #25\n"
          ]
        },
        {
          "output_type": "stream",
          "name": "stderr",
          "text": [
            "train loss = 0.004504688084125519: 100%|██████████| 13/13 [00:11<00:00,  1.09it/s]\n",
            "accuracy 78.85 percentage || Correct 41 out of 52 samples: 100%|██████████| 4/4 [00:01<00:00,  3.33it/s]\n"
          ]
        },
        {
          "output_type": "stream",
          "name": "stdout",
          "text": [
            "EPOCH #26\n"
          ]
        },
        {
          "output_type": "stream",
          "name": "stderr",
          "text": [
            "train loss = 0.004641864914447069: 100%|██████████| 13/13 [00:12<00:00,  1.04it/s]\n",
            "accuracy 80.77 percentage || Correct 42 out of 52 samples: 100%|██████████| 4/4 [00:01<00:00,  3.32it/s]\n"
          ]
        },
        {
          "output_type": "stream",
          "name": "stdout",
          "text": [
            "EPOCH #27\n"
          ]
        },
        {
          "output_type": "stream",
          "name": "stderr",
          "text": [
            "train loss = 0.0060138278640806675: 100%|██████████| 13/13 [00:12<00:00,  1.07it/s]\n",
            "accuracy 84.62 percentage || Correct 44 out of 52 samples: 100%|██████████| 4/4 [00:01<00:00,  3.12it/s]\n"
          ]
        },
        {
          "output_type": "stream",
          "name": "stdout",
          "text": [
            "EPOCH #28\n"
          ]
        },
        {
          "output_type": "stream",
          "name": "stderr",
          "text": [
            "train loss = 0.02979218401014805: 100%|██████████| 13/13 [00:12<00:00,  1.06it/s]\n",
            "accuracy 80.77 percentage || Correct 42 out of 52 samples: 100%|██████████| 4/4 [00:01<00:00,  3.43it/s]\n"
          ]
        },
        {
          "output_type": "stream",
          "name": "stdout",
          "text": [
            "EPOCH #29\n"
          ]
        },
        {
          "output_type": "stream",
          "name": "stderr",
          "text": [
            "train loss = 0.014158753678202629: 100%|██████████| 13/13 [00:12<00:00,  1.07it/s]\n",
            "accuracy 80.77 percentage || Correct 42 out of 52 samples: 100%|██████████| 4/4 [00:01<00:00,  3.33it/s]\n"
          ]
        },
        {
          "output_type": "stream",
          "name": "stdout",
          "text": [
            "EPOCH #30\n"
          ]
        },
        {
          "output_type": "stream",
          "name": "stderr",
          "text": [
            "train loss = 0.01652694121003151: 100%|██████████| 13/13 [00:12<00:00,  1.05it/s]\n",
            "accuracy 82.69 percentage || Correct 43 out of 52 samples: 100%|██████████| 4/4 [00:01<00:00,  3.34it/s]\n"
          ]
        },
        {
          "output_type": "stream",
          "name": "stdout",
          "text": [
            "before\n"
          ]
        },
        {
          "output_type": "stream",
          "name": "stderr",
          "text": [
            "52it [00:02, 17.50it/s]\n"
          ]
        }
      ]
    },
    {
      "cell_type": "markdown",
      "source": [
        "**VGG16Net Model** \\\n",
        "Re-training pytorch's VGG16 model. In rows 2-9 below we modify the final FC layer to fit the number of our classes (13)"
      ],
      "metadata": {
        "id": "-cQiYOWDI9Yl"
      }
    },
    {
      "cell_type": "code",
      "source": [
        "all_models = models.vgg16(pretrained = True)\n",
        "n_classes = 13\n",
        "n_inputs = all_models.classifier[6].in_features\n",
        "\n",
        "all_models.classifier[6] = nn.Sequential(\n",
        "    nn.Linear(n_inputs, 256),\n",
        "    nn.ReLU(),\n",
        "    nn.Dropout(0.4),\n",
        "    nn.Linear(256, n_classes),)"
      ],
      "metadata": {
        "id": "ao9ABL5T8SSq"
      },
      "execution_count": 253,
      "outputs": []
    },
    {
      "cell_type": "code",
      "source": [
        "vgg16net_train_loss,vgg16net_test_acc,vgg16net_y_true,vgg16net_y_pred = retrain_models(all_models,test_loader,train_loader,loss,'VGG16Net',30)"
      ],
      "metadata": {
        "colab": {
          "base_uri": "https://localhost:8080/"
        },
        "id": "mJfkYJy58Sf6",
        "outputId": "cd2eaefb-d4a7-464e-de38-92157379c626"
      },
      "execution_count": 254,
      "outputs": [
        {
          "output_type": "stream",
          "name": "stdout",
          "text": [
            "EPOCH #1\n"
          ]
        },
        {
          "output_type": "stream",
          "name": "stderr",
          "text": [
            "train loss = 3.2405757904052734: 100%|██████████| 13/13 [00:07<00:00,  1.74it/s]\n",
            "accuracy 13.46 percentage || Correct 7 out of 52 samples: 100%|██████████| 4/4 [00:01<00:00,  3.88it/s]\n"
          ]
        },
        {
          "output_type": "stream",
          "name": "stdout",
          "text": [
            "EPOCH #2\n"
          ]
        },
        {
          "output_type": "stream",
          "name": "stderr",
          "text": [
            "train loss = 2.5807864665985107: 100%|██████████| 13/13 [00:07<00:00,  1.75it/s]\n",
            "accuracy 7.69 percentage || Correct 4 out of 52 samples: 100%|██████████| 4/4 [00:00<00:00,  4.14it/s]\n"
          ]
        },
        {
          "output_type": "stream",
          "name": "stdout",
          "text": [
            "EPOCH #3\n"
          ]
        },
        {
          "output_type": "stream",
          "name": "stderr",
          "text": [
            "train loss = 2.5591516494750977: 100%|██████████| 13/13 [00:07<00:00,  1.80it/s]\n",
            "accuracy 3.85 percentage || Correct 2 out of 52 samples: 100%|██████████| 4/4 [00:00<00:00,  4.01it/s]\n"
          ]
        },
        {
          "output_type": "stream",
          "name": "stdout",
          "text": [
            "EPOCH #4\n"
          ]
        },
        {
          "output_type": "stream",
          "name": "stderr",
          "text": [
            "train loss = 2.50986647605896: 100%|██████████| 13/13 [00:07<00:00,  1.69it/s]\n",
            "accuracy 7.69 percentage || Correct 4 out of 52 samples: 100%|██████████| 4/4 [00:01<00:00,  3.94it/s]\n"
          ]
        },
        {
          "output_type": "stream",
          "name": "stdout",
          "text": [
            "EPOCH #5\n"
          ]
        },
        {
          "output_type": "stream",
          "name": "stderr",
          "text": [
            "train loss = 2.4460015296936035: 100%|██████████| 13/13 [00:07<00:00,  1.73it/s]\n",
            "accuracy 19.23 percentage || Correct 10 out of 52 samples: 100%|██████████| 4/4 [00:00<00:00,  4.06it/s]\n"
          ]
        },
        {
          "output_type": "stream",
          "name": "stdout",
          "text": [
            "EPOCH #6\n"
          ]
        },
        {
          "output_type": "stream",
          "name": "stderr",
          "text": [
            "train loss = 2.31037974357605: 100%|██████████| 13/13 [00:07<00:00,  1.68it/s]\n",
            "accuracy 21.15 percentage || Correct 11 out of 52 samples: 100%|██████████| 4/4 [00:00<00:00,  4.07it/s]\n"
          ]
        },
        {
          "output_type": "stream",
          "name": "stdout",
          "text": [
            "EPOCH #7\n"
          ]
        },
        {
          "output_type": "stream",
          "name": "stderr",
          "text": [
            "train loss = 2.1634860038757324: 100%|██████████| 13/13 [00:07<00:00,  1.72it/s]\n",
            "accuracy 25.00 percentage || Correct 13 out of 52 samples: 100%|██████████| 4/4 [00:00<00:00,  4.07it/s]\n"
          ]
        },
        {
          "output_type": "stream",
          "name": "stdout",
          "text": [
            "EPOCH #8\n"
          ]
        },
        {
          "output_type": "stream",
          "name": "stderr",
          "text": [
            "train loss = 1.7980715036392212: 100%|██████████| 13/13 [00:07<00:00,  1.67it/s]\n",
            "accuracy 32.69 percentage || Correct 17 out of 52 samples: 100%|██████████| 4/4 [00:00<00:00,  4.08it/s]\n"
          ]
        },
        {
          "output_type": "stream",
          "name": "stdout",
          "text": [
            "EPOCH #9\n"
          ]
        },
        {
          "output_type": "stream",
          "name": "stderr",
          "text": [
            "train loss = 1.6943964958190918: 100%|██████████| 13/13 [00:07<00:00,  1.77it/s]\n",
            "accuracy 40.38 percentage || Correct 21 out of 52 samples: 100%|██████████| 4/4 [00:00<00:00,  4.19it/s]\n"
          ]
        },
        {
          "output_type": "stream",
          "name": "stdout",
          "text": [
            "EPOCH #10\n"
          ]
        },
        {
          "output_type": "stream",
          "name": "stderr",
          "text": [
            "train loss = 1.5633289813995361: 100%|██████████| 13/13 [00:07<00:00,  1.76it/s]\n",
            "accuracy 44.23 percentage || Correct 23 out of 52 samples: 100%|██████████| 4/4 [00:00<00:00,  4.18it/s]\n"
          ]
        },
        {
          "output_type": "stream",
          "name": "stdout",
          "text": [
            "EPOCH #11\n"
          ]
        },
        {
          "output_type": "stream",
          "name": "stderr",
          "text": [
            "train loss = 1.3112131357192993: 100%|██████████| 13/13 [00:07<00:00,  1.77it/s]\n",
            "accuracy 42.31 percentage || Correct 22 out of 52 samples: 100%|██████████| 4/4 [00:00<00:00,  4.03it/s]\n"
          ]
        },
        {
          "output_type": "stream",
          "name": "stdout",
          "text": [
            "EPOCH #12\n"
          ]
        },
        {
          "output_type": "stream",
          "name": "stderr",
          "text": [
            "train loss = 1.0704536437988281: 100%|██████████| 13/13 [00:07<00:00,  1.72it/s]\n",
            "accuracy 38.46 percentage || Correct 20 out of 52 samples: 100%|██████████| 4/4 [00:00<00:00,  4.22it/s]\n"
          ]
        },
        {
          "output_type": "stream",
          "name": "stdout",
          "text": [
            "EPOCH #13\n"
          ]
        },
        {
          "output_type": "stream",
          "name": "stderr",
          "text": [
            "train loss = 0.8349276781082153: 100%|██████████| 13/13 [00:07<00:00,  1.72it/s]\n",
            "accuracy 38.46 percentage || Correct 20 out of 52 samples: 100%|██████████| 4/4 [00:01<00:00,  3.92it/s]\n"
          ]
        },
        {
          "output_type": "stream",
          "name": "stdout",
          "text": [
            "EPOCH #14\n"
          ]
        },
        {
          "output_type": "stream",
          "name": "stderr",
          "text": [
            "train loss = 0.8998624086380005: 100%|██████████| 13/13 [00:07<00:00,  1.77it/s]\n",
            "accuracy 38.46 percentage || Correct 20 out of 52 samples: 100%|██████████| 4/4 [00:00<00:00,  4.36it/s]\n"
          ]
        },
        {
          "output_type": "stream",
          "name": "stdout",
          "text": [
            "EPOCH #15\n"
          ]
        },
        {
          "output_type": "stream",
          "name": "stderr",
          "text": [
            "train loss = 0.6984812021255493: 100%|██████████| 13/13 [00:07<00:00,  1.71it/s]\n",
            "accuracy 44.23 percentage || Correct 23 out of 52 samples: 100%|██████████| 4/4 [00:00<00:00,  4.08it/s]\n"
          ]
        },
        {
          "output_type": "stream",
          "name": "stdout",
          "text": [
            "EPOCH #16\n"
          ]
        },
        {
          "output_type": "stream",
          "name": "stderr",
          "text": [
            "train loss = 0.5531485676765442: 100%|██████████| 13/13 [00:07<00:00,  1.76it/s]\n",
            "accuracy 40.38 percentage || Correct 21 out of 52 samples: 100%|██████████| 4/4 [00:00<00:00,  4.00it/s]\n"
          ]
        },
        {
          "output_type": "stream",
          "name": "stdout",
          "text": [
            "EPOCH #17\n"
          ]
        },
        {
          "output_type": "stream",
          "name": "stderr",
          "text": [
            "train loss = 0.3150251805782318: 100%|██████████| 13/13 [00:07<00:00,  1.73it/s]\n",
            "accuracy 48.08 percentage || Correct 25 out of 52 samples: 100%|██████████| 4/4 [00:00<00:00,  4.04it/s]\n"
          ]
        },
        {
          "output_type": "stream",
          "name": "stdout",
          "text": [
            "EPOCH #18\n"
          ]
        },
        {
          "output_type": "stream",
          "name": "stderr",
          "text": [
            "train loss = 0.3780861794948578: 100%|██████████| 13/13 [00:07<00:00,  1.76it/s]\n",
            "accuracy 44.23 percentage || Correct 23 out of 52 samples: 100%|██████████| 4/4 [00:00<00:00,  4.19it/s]\n"
          ]
        },
        {
          "output_type": "stream",
          "name": "stdout",
          "text": [
            "EPOCH #19\n"
          ]
        },
        {
          "output_type": "stream",
          "name": "stderr",
          "text": [
            "train loss = 0.2631668746471405: 100%|██████████| 13/13 [00:07<00:00,  1.79it/s]\n",
            "accuracy 42.31 percentage || Correct 22 out of 52 samples: 100%|██████████| 4/4 [00:01<00:00,  3.86it/s]\n"
          ]
        },
        {
          "output_type": "stream",
          "name": "stdout",
          "text": [
            "EPOCH #20\n"
          ]
        },
        {
          "output_type": "stream",
          "name": "stderr",
          "text": [
            "train loss = 0.1706295758485794: 100%|██████████| 13/13 [00:07<00:00,  1.71it/s]\n",
            "accuracy 44.23 percentage || Correct 23 out of 52 samples: 100%|██████████| 4/4 [00:01<00:00,  3.90it/s]\n"
          ]
        },
        {
          "output_type": "stream",
          "name": "stdout",
          "text": [
            "EPOCH #21\n"
          ]
        },
        {
          "output_type": "stream",
          "name": "stderr",
          "text": [
            "train loss = 0.10690592229366302: 100%|██████████| 13/13 [00:07<00:00,  1.72it/s]\n",
            "accuracy 46.15 percentage || Correct 24 out of 52 samples: 100%|██████████| 4/4 [00:01<00:00,  3.82it/s]\n"
          ]
        },
        {
          "output_type": "stream",
          "name": "stdout",
          "text": [
            "EPOCH #22\n"
          ]
        },
        {
          "output_type": "stream",
          "name": "stderr",
          "text": [
            "train loss = 0.0584736168384552: 100%|██████████| 13/13 [00:07<00:00,  1.73it/s]\n",
            "accuracy 46.15 percentage || Correct 24 out of 52 samples: 100%|██████████| 4/4 [00:01<00:00,  3.77it/s]\n"
          ]
        },
        {
          "output_type": "stream",
          "name": "stdout",
          "text": [
            "EPOCH #23\n"
          ]
        },
        {
          "output_type": "stream",
          "name": "stderr",
          "text": [
            "train loss = 0.04390360414981842: 100%|██████████| 13/13 [00:07<00:00,  1.64it/s]\n",
            "accuracy 46.15 percentage || Correct 24 out of 52 samples: 100%|██████████| 4/4 [00:01<00:00,  3.95it/s]\n"
          ]
        },
        {
          "output_type": "stream",
          "name": "stdout",
          "text": [
            "EPOCH #24\n"
          ]
        },
        {
          "output_type": "stream",
          "name": "stderr",
          "text": [
            "train loss = 0.06667610257863998: 100%|██████████| 13/13 [00:07<00:00,  1.69it/s]\n",
            "accuracy 48.08 percentage || Correct 25 out of 52 samples: 100%|██████████| 4/4 [00:01<00:00,  3.96it/s]\n"
          ]
        },
        {
          "output_type": "stream",
          "name": "stdout",
          "text": [
            "EPOCH #25\n"
          ]
        },
        {
          "output_type": "stream",
          "name": "stderr",
          "text": [
            "train loss = 0.031472399830818176: 100%|██████████| 13/13 [00:07<00:00,  1.72it/s]\n",
            "accuracy 42.31 percentage || Correct 22 out of 52 samples: 100%|██████████| 4/4 [00:00<00:00,  4.06it/s]\n"
          ]
        },
        {
          "output_type": "stream",
          "name": "stdout",
          "text": [
            "EPOCH #26\n"
          ]
        },
        {
          "output_type": "stream",
          "name": "stderr",
          "text": [
            "train loss = 0.06375906616449356: 100%|██████████| 13/13 [00:07<00:00,  1.75it/s]\n",
            "accuracy 44.23 percentage || Correct 23 out of 52 samples: 100%|██████████| 4/4 [00:01<00:00,  3.96it/s]\n"
          ]
        },
        {
          "output_type": "stream",
          "name": "stdout",
          "text": [
            "EPOCH #27\n"
          ]
        },
        {
          "output_type": "stream",
          "name": "stderr",
          "text": [
            "train loss = 0.02434198372066021: 100%|██████████| 13/13 [00:07<00:00,  1.76it/s]\n",
            "accuracy 42.31 percentage || Correct 22 out of 52 samples: 100%|██████████| 4/4 [00:00<00:00,  4.11it/s]\n"
          ]
        },
        {
          "output_type": "stream",
          "name": "stdout",
          "text": [
            "EPOCH #28\n"
          ]
        },
        {
          "output_type": "stream",
          "name": "stderr",
          "text": [
            "train loss = 0.03644254058599472: 100%|██████████| 13/13 [00:07<00:00,  1.76it/s]\n",
            "accuracy 50.00 percentage || Correct 26 out of 52 samples: 100%|██████████| 4/4 [00:00<00:00,  4.06it/s]\n"
          ]
        },
        {
          "output_type": "stream",
          "name": "stdout",
          "text": [
            "EPOCH #29\n"
          ]
        },
        {
          "output_type": "stream",
          "name": "stderr",
          "text": [
            "train loss = 0.01713128201663494: 100%|██████████| 13/13 [00:07<00:00,  1.77it/s]\n",
            "accuracy 50.00 percentage || Correct 26 out of 52 samples: 100%|██████████| 4/4 [00:01<00:00,  3.96it/s]\n"
          ]
        },
        {
          "output_type": "stream",
          "name": "stdout",
          "text": [
            "EPOCH #30\n"
          ]
        },
        {
          "output_type": "stream",
          "name": "stderr",
          "text": [
            "train loss = 0.02430816926062107: 100%|██████████| 13/13 [00:07<00:00,  1.77it/s]\n",
            "accuracy 46.15 percentage || Correct 24 out of 52 samples: 100%|██████████| 4/4 [00:00<00:00,  4.05it/s]\n"
          ]
        },
        {
          "output_type": "stream",
          "name": "stdout",
          "text": [
            "before\n"
          ]
        },
        {
          "output_type": "stream",
          "name": "stderr",
          "text": [
            "52it [00:01, 42.85it/s]\n"
          ]
        }
      ]
    },
    {
      "cell_type": "code",
      "source": [
        "torch.cuda.empty_cache()"
      ],
      "metadata": {
        "id": "0G99JPU-8P5v"
      },
      "execution_count": 30,
      "outputs": []
    },
    {
      "cell_type": "markdown",
      "source": [
        "# Results"
      ],
      "metadata": {
        "id": "pJaO-o8FMzVw"
      }
    },
    {
      "cell_type": "code",
      "source": [
        "all_models_train_loss = [vgg16net_train_loss,googlenet_train_loss,efficientnet_train_loss,resnet_train_loss,alexnet_train_loss]\n",
        "all_models_test_acc = [vgg16net_test_acc,googlenet_test_acc,efficientnet_test_acc,resnet_test_acc,alexnet_test_acc]\n",
        "all_model_names = ['VGG16Net', 'GoogleNet','EfficientNet-b7','ResNet','AlexNet']\n",
        "show_plots(all_models_train_loss,all_models_test_acc,all_model_names)\n"
      ],
      "metadata": {
        "colab": {
          "base_uri": "https://localhost:8080/",
          "height": 541
        },
        "id": "pEXM6eZxMyn7",
        "outputId": "bad60af2-13fb-4af0-adc7-976d768b8b27"
      },
      "execution_count": 255,
      "outputs": [
        {
          "output_type": "display_data",
          "data": {
            "text/plain": [
              "<Figure size 432x288 with 1 Axes>"
            ],
            "image/png": "[encoded data removed]"
          },
          "metadata": {
            "needs_background": "light"
          }
        },
        {
          "output_type": "display_data",
          "data": {
            "text/plain": [
              "<Figure size 432x288 with 1 Axes>"
            ],
            "image/png": "[encoded data removed]"
          },
          "metadata": {
            "needs_background": "light"
          }
        }
      ]
    },
    {
      "cell_type": "markdown",
      "source": [
        "We can clearly see that GoogleNet, EfficientNet and ResNet had far better validation accuracy scores, therfore they will have greater weight for the ensambled method in the next part."
      ],
      "metadata": {
        "id": "hfJ2T6N4JJO3"
      }
    },
    {
      "cell_type": "markdown",
      "source": [
        "# Ensamble"
      ],
      "metadata": {
        "id": "KeBx-A6WOQ87"
      }
    },
    {
      "cell_type": "code",
      "source": [
        "all_y_preds = [resnet_y_pred,googlenet_y_pred,efficientnet_y_pred,vgg16net_y_pred,alexnet_y_pred]"
      ],
      "metadata": {
        "id": "8azx-ZImPHXF"
      },
      "execution_count": 256,
      "outputs": []
    },
    {
      "cell_type": "markdown",
      "source": [
        "Collecting ensamble predictions:</br>\n",
        "Each model recieved a weight based on its performance in training.</br>\n",
        "We will now multiply each model's prediction with the given weight, then sum each image prediction to get an ensambled prediction."
      ],
      "metadata": {
        "id": "mOlT1QxlFVWF"
      }
    },
    {
      "cell_type": "code",
      "source": [
        "result_weight_list = [0.25,0.25,0.25,0.125,0.125]\n",
        "ensamble_predict = []\n",
        "for k in range(52):\n",
        "  predict = []\n",
        "  for i in range(13):\n",
        "    num = 0\n",
        "    for j in range(5):\n",
        "      num+=all_y_preds[j][k][i]*result_weight_list[j]   \n",
        "    predict.append(num)\n",
        "  predict = predict.index(max(predict))\n",
        "  ensamble_predict.append(predict)\n",
        "\n"
      ],
      "metadata": {
        "id": "L2_2nG9SOY3L"
      },
      "execution_count": 257,
      "outputs": []
    },
    {
      "cell_type": "markdown",
      "source": [
        "Measuring the ensambled predicions success:"
      ],
      "metadata": {
        "id": "6_wLh_ZYFyvZ"
      }
    },
    {
      "cell_type": "code",
      "source": [
        "ensamble_correct_count = 0\n",
        "counter = 0\n",
        "for i in ensamble_predict:\n",
        "  if i == resnet_y_true[counter]:\n",
        "    ensamble_correct_count+=1\n",
        "  counter+=1\n"
      ],
      "metadata": {
        "id": "dfsuGrgMV_XK"
      },
      "execution_count": 258,
      "outputs": []
    },
    {
      "cell_type": "code",
      "source": [
        "print(ensamble_correct_count/counter)"
      ],
      "metadata": {
        "colab": {
          "base_uri": "https://localhost:8080/"
        },
        "id": "8TgfnGyi9asX",
        "outputId": "02c8628f-5697-44c2-9cf2-6bb835ccdafc"
      },
      "execution_count": 259,
      "outputs": [
        {
          "output_type": "stream",
          "name": "stdout",
          "text": [
            "0.8846153846153846\n"
          ]
        }
      ]
    },
    {
      "cell_type": "markdown",
      "source": [
        "Ensambled predictions are 88.4% accurate"
      ],
      "metadata": {
        "id": "e6FQj-8eF4HU"
      }
    },
    {
      "cell_type": "code",
      "source": [
        "avg_total_preds = 0\n",
        "for i in range(5):\n",
        "  avg_total_preds+=all_models_test_acc[i][29]\n",
        "avg_total_preds/=5\n",
        "print(f\"Average total predictions: {avg_total_preds}\")"
      ],
      "metadata": {
        "colab": {
          "base_uri": "https://localhost:8080/"
        },
        "id": "qBU83V4gGCpN",
        "outputId": "277ca981-f366-460e-dbd3-a9811c5469ee"
      },
      "execution_count": 261,
      "outputs": [
        {
          "output_type": "stream",
          "name": "stdout",
          "text": [
            "Average total predictions: 67.28766025641025\n"
          ]
        }
      ]
    },
    {
      "cell_type": "markdown",
      "source": [
        "The average predicion score of the models we selected (independently) is 67.3%.</br>Therefore there is a 21.1% difference in favor of the ensambled predicions."
      ],
      "metadata": {
        "id": "6KVyMhDbGnSF"
      }
    },
    {
      "cell_type": "markdown",
      "source": [
        "# Summary"
      ],
      "metadata": {
        "id": "xCJIocxAKKrn"
      }
    },
    {
      "cell_type": "markdown",
      "source": [
        "1. Scores:\n",
        "\n",
        "\n",
        "*   **Our VGG16 Model Accuracy**: 34.62% - a relatively 'low' score, however the model was only trained with 208 images.\n",
        "*   **ResNet Model Accuracy**: 82.69%\n",
        "* **EfficientNetb7 Model Accuracy**: 84.62%\n",
        "* **AlexNet Model Accuracy**: 42.31%\n",
        "* **VGG16Net Model Accuracy**: 46.15%\n",
        "* **Average pytorch models accuracy**: 67.3%\n",
        "* **Ensambled Accuracy**: 88.4%\n",
        "\n",
        "\"The wisdom of the croud\": The ensambled results were as we expected, as the more accurate models had a more meaninful prediction to the final result.\n",
        "\n",
        "2. Difference between our VGG16 and pytorch's VGG16:\n",
        "* Our model was trained on significantly less data, therefore it was less accurate, however - the margin is not that large: approximately 11.5%.\n",
        "\n",
        "3. Ensamble method implementation:\n",
        "* We chose to use this method as we learned it is more accurate than other ensamble methods like average,voting, etc.\n",
        "\n"
      ],
      "metadata": {
        "id": "sLTaF_N-KVHy"
      }
    },
    {
      "cell_type": "code",
      "source": [
        ""
      ],
      "metadata": {
        "id": "emVd3MOEKTf7"
      },
      "execution_count": null,
      "outputs": []
    }
  ]
}
